{
 "cells": [
  {
   "cell_type": "code",
   "execution_count": 1,
   "metadata": {},
   "outputs": [],
   "source": [
    "import os\n",
    "\n",
    "import pandas as pd\n",
    "\n",
    "from os.path import join\n",
    "from sklearn.preprocessing import LabelEncoder"
   ]
  },
  {
   "cell_type": "code",
   "execution_count": 2,
   "metadata": {},
   "outputs": [],
   "source": [
    "pwd = os.getcwd()\n",
    "datadir = join(pwd, 'data/')\n",
    "file = join(datadir, 'cancer.csv')\n",
    "le = LabelEncoder()\n",
    "do_export = True"
   ]
  },
  {
   "cell_type": "code",
   "execution_count": 3,
   "metadata": {},
   "outputs": [],
   "source": [
    "df = pd.read_csv(file)"
   ]
  },
  {
   "cell_type": "code",
   "execution_count": 4,
   "metadata": {},
   "outputs": [
    {
     "name": "stdout",
     "output_type": "stream",
     "text": [
      "Index(['Gender', 'Age at Initial Pathologic Diagnosis', 'ER Status',\n",
      "       'PR Status', 'HER2 Final Status', 'Tumor', 'Tumor--T1 Coded', 'Node',\n",
      "       'Node-Coded', 'Metastasis', 'Metastasis-Coded', 'AJCC Stage',\n",
      "       'Converted Stage', 'Survival Data Form', 'Vital Status',\n",
      "       'Days to Date of Last Contact', 'Days to date of Death', 'OS event',\n",
      "       'OS Time', 'PAM50 mRNA', 'SigClust Unsupervised mRNA',\n",
      "       'SigClust Intrinsic mRNA', 'miRNA Clusters', 'methylation Clusters',\n",
      "       'RPPA Clusters', 'CN Clusters', 'Integrated Clusters (with PAM50)',\n",
      "       'Integrated Clusters (no exp)', 'Integrated Clusters (unsup exp)'],\n",
      "      dtype='object')\n"
     ]
    }
   ],
   "source": [
    "print(df.columns)"
   ]
  },
  {
   "cell_type": "code",
   "execution_count": 5,
   "metadata": {},
   "outputs": [
    {
     "name": "stdout",
     "output_type": "stream",
     "text": [
      "Gender                                   int64\n",
      "Age at Initial Pathologic Diagnosis      int64\n",
      "ER Status                                int64\n",
      "PR Status                                int64\n",
      "HER2 Final Status                        int64\n",
      "Tumor                                    int64\n",
      "Tumor--T1 Coded                          int64\n",
      "Node                                     int64\n",
      "Node-Coded                               int64\n",
      "Metastasis                               int64\n",
      "Metastasis-Coded                        object\n",
      "AJCC Stage                              object\n",
      "Converted Stage                         object\n",
      "Survival Data Form                      object\n",
      "Vital Status                            object\n",
      "Days to Date of Last Contact             int64\n",
      "Days to date of Death                  float64\n",
      "OS event                                 int64\n",
      "OS Time                                  int64\n",
      "PAM50 mRNA                               int64\n",
      "SigClust Unsupervised mRNA               int64\n",
      "SigClust Intrinsic mRNA                  int64\n",
      "miRNA Clusters                           int64\n",
      "methylation Clusters                     int64\n",
      "RPPA Clusters                            int64\n",
      "CN Clusters                              int64\n",
      "Integrated Clusters (with PAM50)         int64\n",
      "Integrated Clusters (no exp)             int64\n",
      "Integrated Clusters (unsup exp)          int64\n",
      "dtype: object\n"
     ]
    }
   ],
   "source": [
    "print(df.dtypes)"
   ]
  },
  {
   "cell_type": "code",
   "execution_count": 6,
   "metadata": {},
   "outputs": [
    {
     "name": "stdout",
     "output_type": "stream",
     "text": [
      "   Gender  Age at Initial Pathologic Diagnosis  ER Status  PR Status  \\\n",
      "0       0                                   66          1          0   \n",
      "1       0                                   40          1          0   \n",
      "2       0                                   48          1          0   \n",
      "3       0                                   56          1          0   \n",
      "4       0                                   38          1          0   \n",
      "\n",
      "   HER2 Final Status  Tumor  Tumor--T1 Coded  Node  Node-Coded  Metastasis  \\\n",
      "0                  1      2                1     3           1           1   \n",
      "1                  1      1                1     0           0           0   \n",
      "2                  1      1                1     1           1           0   \n",
      "3                  1      1                1     1           1           0   \n",
      "4                  1      2                1     3           1           0   \n",
      "\n",
      "   ... PAM50 mRNA SigClust Unsupervised mRNA SigClust Intrinsic mRNA  \\\n",
      "0  ...          0                          0                     -13   \n",
      "1  ...          0                        -12                     -13   \n",
      "2  ...          0                        -12                     -13   \n",
      "3  ...          0                        -12                     -13   \n",
      "4  ...          0                          0                     -13   \n",
      "\n",
      "  miRNA Clusters methylation Clusters  RPPA Clusters  CN Clusters  \\\n",
      "0              3                    5              0            3   \n",
      "1              4                    4              0            4   \n",
      "2              5                    5              0            1   \n",
      "3              5                    5              0            1   \n",
      "4              5                    5              0            1   \n",
      "\n",
      "   Integrated Clusters (with PAM50)  Integrated Clusters (no exp)  \\\n",
      "0                                 2                             2   \n",
      "1                                 2                             1   \n",
      "2                                 2                             2   \n",
      "3                                 2                             2   \n",
      "4                                 2                             2   \n",
      "\n",
      "   Integrated Clusters (unsup exp)  \n",
      "0                                2  \n",
      "1                                1  \n",
      "2                                2  \n",
      "3                                2  \n",
      "4                                2  \n",
      "\n",
      "[5 rows x 29 columns]\n"
     ]
    }
   ],
   "source": [
    "print(df.head())"
   ]
  },
  {
   "cell_type": "code",
   "execution_count": 7,
   "metadata": {},
   "outputs": [
    {
     "name": "stdout",
     "output_type": "stream",
     "text": [
      "105\n"
     ]
    }
   ],
   "source": [
    "print(len(df))"
   ]
  },
  {
   "cell_type": "code",
   "execution_count": 8,
   "metadata": {},
   "outputs": [],
   "source": [
    "cols_encode = [\n",
    "    'Metastasis-Coded',\n",
    "    'AJCC Stage',\n",
    "    'Converted Stage',\n",
    "    'Survival Data Form',\n",
    "    'Vital Status',\n",
    "]\n",
    "cols_drop = [\n",
    "    \n",
    "]"
   ]
  },
  {
   "cell_type": "code",
   "execution_count": 9,
   "metadata": {},
   "outputs": [
    {
     "name": "stdout",
     "output_type": "stream",
     "text": [
      "<class 'numpy.ndarray'>\n"
     ]
    }
   ],
   "source": [
    "print(type(df.to_numpy()))"
   ]
  },
  {
   "cell_type": "code",
   "execution_count": 10,
   "metadata": {},
   "outputs": [
    {
     "data": {
      "text/plain": [
       "array([ 240.,  754., 1555., 1692.,   nan, 1141.,  160., 1148., 2483.,\n",
       "       1364., 1563., 1699.])"
      ]
     },
     "execution_count": 10,
     "metadata": {},
     "output_type": "execute_result"
    }
   ],
   "source": [
    "df['Days to date of Death'].unique()"
   ]
  },
  {
   "cell_type": "code",
   "execution_count": 11,
   "metadata": {},
   "outputs": [],
   "source": [
    "for col in cols_encode:\n",
    "    df[col] = le.fit_transform(df[col])"
   ]
  },
  {
   "cell_type": "code",
   "execution_count": 12,
   "metadata": {},
   "outputs": [],
   "source": [
    "for col in cols_drop:\n",
    "    df = df.drop(col, axis=1)"
   ]
  },
  {
   "cell_type": "code",
   "execution_count": 13,
   "metadata": {},
   "outputs": [
    {
     "name": "stdout",
     "output_type": "stream",
     "text": [
      "   Gender  Age at Initial Pathologic Diagnosis  ER Status  PR Status  \\\n",
      "0       0                                   66          1          0   \n",
      "1       0                                   40          1          0   \n",
      "2       0                                   48          1          0   \n",
      "3       0                                   56          1          0   \n",
      "4       0                                   38          1          0   \n",
      "\n",
      "   HER2 Final Status  Tumor  Tumor--T1 Coded  Node  Node-Coded  Metastasis  \\\n",
      "0                  1      2                1     3           1           1   \n",
      "1                  1      1                1     0           0           0   \n",
      "2                  1      1                1     1           1           0   \n",
      "3                  1      1                1     1           1           0   \n",
      "4                  1      2                1     3           1           0   \n",
      "\n",
      "   ...  PAM50 mRNA  SigClust Unsupervised mRNA  SigClust Intrinsic mRNA  \\\n",
      "0  ...           0                           0                      -13   \n",
      "1  ...           0                         -12                      -13   \n",
      "2  ...           0                         -12                      -13   \n",
      "3  ...           0                         -12                      -13   \n",
      "4  ...           0                           0                      -13   \n",
      "\n",
      "   miRNA Clusters  methylation Clusters  RPPA Clusters  CN Clusters  \\\n",
      "0               3                     5              0            3   \n",
      "1               4                     4              0            4   \n",
      "2               5                     5              0            1   \n",
      "3               5                     5              0            1   \n",
      "4               5                     5              0            1   \n",
      "\n",
      "   Integrated Clusters (with PAM50)  Integrated Clusters (no exp)  \\\n",
      "0                                 2                             2   \n",
      "1                                 2                             1   \n",
      "2                                 2                             2   \n",
      "3                                 2                             2   \n",
      "4                                 2                             2   \n",
      "\n",
      "   Integrated Clusters (unsup exp)  \n",
      "0                                2  \n",
      "1                                1  \n",
      "2                                2  \n",
      "3                                2  \n",
      "4                                2  \n",
      "\n",
      "[5 rows x 29 columns]\n"
     ]
    }
   ],
   "source": [
    "print(df.head())"
   ]
  },
  {
   "cell_type": "code",
   "execution_count": 14,
   "metadata": {},
   "outputs": [],
   "source": [
    "if do_export == True:\n",
    "    df.to_csv(file, index=False)"
   ]
  }
 ],
 "metadata": {
  "kernelspec": {
   "display_name": "Python 3",
   "language": "python",
   "name": "python3"
  },
  "language_info": {
   "codemirror_mode": {
    "name": "ipython",
    "version": 3
   },
   "file_extension": ".py",
   "mimetype": "text/x-python",
   "name": "python",
   "nbconvert_exporter": "python",
   "pygments_lexer": "ipython3",
   "version": "3.7.4"
  }
 },
 "nbformat": 4,
 "nbformat_minor": 2
}
