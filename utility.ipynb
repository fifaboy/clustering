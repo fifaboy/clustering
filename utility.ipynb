{
 "cells": [
  {
   "cell_type": "code",
   "execution_count": 1,
   "metadata": {},
   "outputs": [],
   "source": [
    "import os\n",
    "\n",
    "import pandas as pd\n",
    "\n",
    "from os.path import join\n",
    "from sklearn.preprocessing import LabelEncoder"
   ]
  },
  {
   "cell_type": "code",
   "execution_count": 13,
   "metadata": {},
   "outputs": [],
   "source": [
    "pwd = os.getcwd()\n",
    "datadir = join(pwd, 'data/')\n",
    "file = join(datadir, 'boston.csv')\n",
    "le = LabelEncoder()\n",
    "do_export = True"
   ]
  },
  {
   "cell_type": "code",
   "execution_count": 14,
   "metadata": {},
   "outputs": [],
   "source": [
    "df = pd.read_csv(file)"
   ]
  },
  {
   "cell_type": "code",
   "execution_count": 15,
   "metadata": {},
   "outputs": [
    {
     "name": "stdout",
     "output_type": "stream",
     "text": [
      "Index(['crim', 'zn', 'indus', 'chas', 'nox', 'rm', 'age', 'dis', 'rad', 'tax',\n",
      "       'ptratio', 'b', 'lstat', 'medv'],\n",
      "      dtype='object')\n"
     ]
    }
   ],
   "source": [
    "print(df.columns)"
   ]
  },
  {
   "cell_type": "code",
   "execution_count": 16,
   "metadata": {},
   "outputs": [
    {
     "name": "stdout",
     "output_type": "stream",
     "text": [
      "      crim    zn  indus  chas    nox     rm   age     dis  rad  tax  ptratio  \\\n",
      "0  0.00632  18.0   2.31     0  0.538  6.575  65.2  4.0900    1  296     15.3   \n",
      "1  0.02731   0.0   7.07     0  0.469  6.421  78.9  4.9671    2  242     17.8   \n",
      "2  0.02729   0.0   7.07     0  0.469  7.185  61.1  4.9671    2  242     17.8   \n",
      "3  0.03237   0.0   2.18     0  0.458  6.998  45.8  6.0622    3  222     18.7   \n",
      "4  0.06905   0.0   2.18     0  0.458  7.147  54.2  6.0622    3  222     18.7   \n",
      "\n",
      "        b  lstat  medv  \n",
      "0  396.90   4.98  24.0  \n",
      "1  396.90   9.14  21.6  \n",
      "2  392.83   4.03  34.7  \n",
      "3  394.63   2.94  33.4  \n",
      "4  396.90   5.33  36.2  \n"
     ]
    }
   ],
   "source": [
    "print(df.head())"
   ]
  },
  {
   "cell_type": "code",
   "execution_count": 6,
   "metadata": {},
   "outputs": [
    {
     "name": "stdout",
     "output_type": "stream",
     "text": [
      "131\n"
     ]
    }
   ],
   "source": [
    "print(len(df))"
   ]
  },
  {
   "cell_type": "code",
   "execution_count": 7,
   "metadata": {},
   "outputs": [],
   "source": [
    "cols_encode = [\n",
    "    'SCH_TYPE',\n",
    "    'CITY',\n",
    "    'ZIPCODE',\n",
    "]\n",
    "cols_drop = [\n",
    "    'ADDRESS',\n",
    "    'CSP_SCH_ID',\n",
    "    'SCH_ID',\n",
    "    'SCH_LABEL',\n",
    "    'BLDG_NAME',\n",
    "    'SHARED',\n",
    "    'COMPLEX',\n",
    "    'SCH_NAME',\n",
    "]"
   ]
  },
  {
   "cell_type": "code",
   "execution_count": 8,
   "metadata": {},
   "outputs": [
    {
     "data": {
      "text/plain": [
       "array(['Guild Elementary', 'Kennedy Patrick Elem', 'Otis Elementary',\n",
       "       \"O'Donnell Elementary\", 'East Boston High', 'Umana Academy',\n",
       "       'East Boston EEC', 'McKay K-8', 'Adams Elementary',\n",
       "       'Harvard/Kent Elem', 'Charlestown High', 'Edwards Middle',\n",
       "       'Warren/Prescott K-8', 'Eliot K-8', 'Quincy Upper School',\n",
       "       'Quincy Lower (K-5)', 'Snowden International',\n",
       "       'McKinley Elementary', 'McKinley So. End Acad', 'Hurley K-8',\n",
       "       'Blackstone Elementary', 'Mason Elementary', 'Clap Elementary',\n",
       "       'Perkins Elementary', 'Excel High', 'Tynan Elementary',\n",
       "       'Perry K-8', 'Russell Elementary', 'Orchard Gardens K-8',\n",
       "       'West Roxbury Academy', 'UP Academy Boston',\n",
       "       'Boston Day and Evening Academy', 'Carter Center',\n",
       "       'Madison Park High', \"O'Bryant Math & Sci.\", 'Timilty Middle',\n",
       "       'Hale Elementary', 'Higginson/Lewis (3-8)', 'Haynes EEC',\n",
       "       'Trotter K-8', 'Boston Latin Academy', 'Ellis Elementary',\n",
       "       'Winthrop Elementary', 'King K-8', 'Frederick Pilot Middle',\n",
       "       'UP Academy Holland', 'Mather Elementary',\n",
       "       'UP Academy Charter School of Dorchester',\n",
       "       'Henderson Lower (K0-1)', 'Murphy K-8', 'Kenny Elementary',\n",
       "       'Henderson Upper (2-12)', 'Taylor Elementary',\n",
       "       'Boston International HS', 'Newcomers Academy',\n",
       "       'Mildred Avenue K-8', 'TechBoston Academy', 'Lee K-8',\n",
       "       'Lee Academy (K1-3)', 'Holmes Elementary', 'Young Achievers K-8',\n",
       "       'Mattahunt Elementary', 'Chittick Elementary',\n",
       "       'Comm Acad Sci Health', 'Philbrick Elementary', 'Haley K-8',\n",
       "       'BTU K-8 Pilot', 'Roosevelt Upper (2-8)', 'Channing Elementary',\n",
       "       'Grew Elementary', 'Conley Elementary', 'Irving Middle',\n",
       "       'Sumner Elementary', 'Community Academy', 'Hernandez K-8',\n",
       "       'English High', 'Mendell Elementary', 'Kennedy John F Elemen',\n",
       "       'West Zone ELC', 'Tobin K-8', 'Boston Latin School',\n",
       "       'Kennedy Health Careers Academy (11-12)', 'Fenway High',\n",
       "       'Boston Arts Academy', 'McKinley Prep High Sch', 'McKinley Middle',\n",
       "       'Curley K-8 (Lower)', 'Curley K-8 (Upper)', 'Manning Elementary',\n",
       "       'Bates Elementary', 'Mozart Elementary', 'Kilmer Upper (4-8)',\n",
       "       'Beethoven Elementary', 'Kilmer Lower (K1-3)',\n",
       "       'Urban Science Academy', 'Lyndon K-8', 'Edison K-8', 'Lyon K-8',\n",
       "       'Lyon, Mary 9-12', 'Winship Elementary',\n",
       "       'Another Course to College', 'Brighton High', 'Baldwin ELPA',\n",
       "       'Horace Mann', 'Jackson/Mann K-8', 'New Mission High',\n",
       "       'Gardner K-8', 'Ohrenberger 3-8', 'Everett Elementary',\n",
       "       'P.A. Shaw (K1-3)', 'Greenwood Sarah K-8', 'Burke High',\n",
       "       'Dever Elementary', 'McCormack Middle', 'Condon K-8',\n",
       "       'Roosevelt K-8 (K1-1)', 'Bradley Elementary', 'Hennigan K-8',\n",
       "       'Ellison/ Parks ELC', 'Greater Egleston High', 'Mission Hill K-8',\n",
       "       'Margarita Muniz Academy',\n",
       "       'Dudley Street Neighborhood Charter School',\n",
       "       'Kennedy Health Careers Academy (9-10)',\n",
       "       'Community Leadership Academy', 'Higginson Elementary (K1-2)',\n",
       "       'Alighieri Montessori', 'Boston Adult Tech Acad',\n",
       "       'Boston Green Academy', 'Dearborn Academy'], dtype=object)"
      ]
     },
     "execution_count": 8,
     "metadata": {},
     "output_type": "execute_result"
    }
   ],
   "source": [
    "df['SCH_NAME'].unique()"
   ]
  },
  {
   "cell_type": "code",
   "execution_count": 9,
   "metadata": {},
   "outputs": [],
   "source": [
    "for col in cols_encode:\n",
    "    df[col] = le.fit_transform(df[col])"
   ]
  },
  {
   "cell_type": "code",
   "execution_count": 10,
   "metadata": {},
   "outputs": [],
   "source": [
    "for col in cols_drop:\n",
    "    df = df.drop(col, axis=1)"
   ]
  },
  {
   "cell_type": "code",
   "execution_count": 11,
   "metadata": {},
   "outputs": [
    {
     "name": "stdout",
     "output_type": "stream",
     "text": [
      "           X          Y  OBJECTID_1  OBJECTID  BLDG_ID  CITY  ZIPCODE  \\\n",
      "0 -71.004121  42.388799           1         1        1     5       13   \n",
      "1 -71.030480  42.378545           2         2        3     5       13   \n",
      "2 -71.033891  42.375279           3         3        4     5       13   \n",
      "3 -71.038011  42.378089           4         4        6     5       13   \n",
      "4 -71.034921  42.380957           5         5        7     5       13   \n",
      "\n",
      "   SCH_TYPE        POINT_X       POINT_Y  \n",
      "0         2  790128.152748  2.967094e+06  \n",
      "1         2  783027.745829  2.963318e+06  \n",
      "2         2  782112.823908  2.962122e+06  \n",
      "3         2  780994.000003  2.963140e+06  \n",
      "4         3  781823.000004  2.964190e+06  \n"
     ]
    }
   ],
   "source": [
    "print(df.head())"
   ]
  },
  {
   "cell_type": "code",
   "execution_count": 12,
   "metadata": {},
   "outputs": [],
   "source": [
    "if do_export == True:\n",
    "    df.to_csv(file, index=False)"
   ]
  }
 ],
 "metadata": {
  "kernelspec": {
   "display_name": "Python 3",
   "language": "python",
   "name": "python3"
  },
  "language_info": {
   "codemirror_mode": {
    "name": "ipython",
    "version": 3
   },
   "file_extension": ".py",
   "mimetype": "text/x-python",
   "name": "python",
   "nbconvert_exporter": "python",
   "pygments_lexer": "ipython3",
   "version": "3.7.4"
  }
 },
 "nbformat": 4,
 "nbformat_minor": 2
}
