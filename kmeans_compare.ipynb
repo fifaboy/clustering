{
 "cells": [
  {
   "cell_type": "code",
   "execution_count": 6,
   "id": "2f16559f-c2a0-4463-8004-fcbab3af4196",
   "metadata": {},
   "outputs": [],
   "source": [
    "import pandas as pd\n",
    "\n",
    "from os import listdir\n",
    "from os.path import join\n",
    "from sklearn.mixture import GaussianMixture\n",
    "\n",
    "import matplotlib.pyplot as plt"
   ]
  },
  {
   "cell_type": "code",
   "execution_count": 2,
   "id": "b5a21229-de55-4c9e-9a00-b96f576d4de6",
   "metadata": {},
   "outputs": [],
   "source": [
    "datadir = 'data/'"
   ]
  },
  {
   "cell_type": "code",
   "execution_count": 3,
   "id": "5ba17d17-6561-4749-a9f5-2ad024ec228c",
   "metadata": {},
   "outputs": [
    {
     "data": {
      "text/plain": [
       "['iris.csv',\n",
       " 'moons.csv',\n",
       " 'schools.csv',\n",
       " 'boston.csv',\n",
       " 'Wine.csv',\n",
       " 'old.csv',\n",
       " 'airlines.csv',\n",
       " 'mall.csv',\n",
       " 'cloud.csv']"
      ]
     },
     "execution_count": 3,
     "metadata": {},
     "output_type": "execute_result"
    }
   ],
   "source": [
    "files = [file for file in listdir(datadir) if file.endswith('csv')]\n",
    "files"
   ]
  },
  {
   "cell_type": "code",
   "execution_count": 4,
   "id": "fa99698d-7de5-41a9-a8c2-e6704afab56e",
   "metadata": {},
   "outputs": [
    {
     "data": {
      "text/plain": [
       "['data/iris.csv',\n",
       " 'data/moons.csv',\n",
       " 'data/schools.csv',\n",
       " 'data/boston.csv',\n",
       " 'data/Wine.csv',\n",
       " 'data/old.csv',\n",
       " 'data/airlines.csv',\n",
       " 'data/mall.csv',\n",
       " 'data/cloud.csv']"
      ]
     },
     "execution_count": 4,
     "metadata": {},
     "output_type": "execute_result"
    }
   ],
   "source": [
    "paths = [join(datadir, file) for file in files]\n",
    "paths"
   ]
  },
  {
   "cell_type": "code",
   "execution_count": null,
   "id": "cd6feb7c-82ba-48e1-a78e-efc1b3a526b5",
   "metadata": {},
   "outputs": [],
   "source": []
  },
  {
   "cell_type": "code",
   "execution_count": 5,
   "id": "cc8ada9e-f1a7-44fd-9ad2-301d698e27dc",
   "metadata": {},
   "outputs": [
    {
     "name": "stdout",
     "output_type": "stream",
     "text": [
      "   sepal.length  sepal.width  petal.length  petal.width  variety\n",
      "0           5.1          3.5           1.4          0.2        0\n",
      "1           4.9          3.0           1.4          0.2        0\n",
      "2           4.7          3.2           1.3          0.2        0\n",
      "3           4.6          3.1           1.5          0.2        0\n",
      "4           5.0          3.6           1.4          0.2        0\n",
      "          X         Y\n",
      "0 -0.415208  1.035735\n",
      "1  0.058781  0.304334\n",
      "2  1.109379 -0.509738\n",
      "3  1.540948 -0.427550\n",
      "4  0.929095 -0.532388\n",
      "           X          Y  OBJECTID_1  OBJECTID  BLDG_ID  CITY  ZIPCODE  \\\n",
      "0 -71.004121  42.388799           1         1        1     5       13   \n",
      "1 -71.030480  42.378545           2         2        3     5       13   \n",
      "2 -71.033891  42.375279           3         3        4     5       13   \n",
      "3 -71.038011  42.378089           4         4        6     5       13   \n",
      "4 -71.034921  42.380957           5         5        7     5       13   \n",
      "\n",
      "   SCH_TYPE        POINT_X       POINT_Y  \n",
      "0         2  790128.152748  2.967094e+06  \n",
      "1         2  783027.745829  2.963318e+06  \n",
      "2         2  782112.823908  2.962122e+06  \n",
      "3         2  780994.000003  2.963140e+06  \n",
      "4         3  781823.000004  2.964190e+06  \n",
      "      crim    zn  indus  chas    nox     rm   age     dis  rad  tax  ptratio  \\\n",
      "0  0.00632  18.0   2.31     0  0.538  6.575  65.2  4.0900    1  296     15.3   \n",
      "1  0.02731   0.0   7.07     0  0.469  6.421  78.9  4.9671    2  242     17.8   \n",
      "2  0.02729   0.0   7.07     0  0.469  7.185  61.1  4.9671    2  242     17.8   \n",
      "3  0.03237   0.0   2.18     0  0.458  6.998  45.8  6.0622    3  222     18.7   \n",
      "4  0.06905   0.0   2.18     0  0.458  7.147  54.2  6.0622    3  222     18.7   \n",
      "\n",
      "        b  lstat  medv  \n",
      "0  396.90   4.98  24.0  \n",
      "1  396.90   9.14  21.6  \n",
      "2  392.83   4.03  34.7  \n",
      "3  394.63   2.94  33.4  \n",
      "4  396.90   5.33  36.2  \n",
      "   Alcohol  Malic_Acid   Ash  Ash_Alcanity  Magnesium  Total_Phenols  \\\n",
      "0    14.23        1.71  2.43          15.6        127           2.80   \n",
      "1    13.20        1.78  2.14          11.2        100           2.65   \n",
      "2    13.16        2.36  2.67          18.6        101           2.80   \n",
      "3    14.37        1.95  2.50          16.8        113           3.85   \n",
      "4    13.24        2.59  2.87          21.0        118           2.80   \n",
      "\n",
      "   Flavanoids  Nonflavanoid_Phenols  Proanthocyanins  Color_Intensity   Hue  \\\n",
      "0        3.06                  0.28             2.29             5.64  1.04   \n",
      "1        2.76                  0.26             1.28             4.38  1.05   \n",
      "2        3.24                  0.30             2.81             5.68  1.03   \n",
      "3        3.49                  0.24             2.18             7.80  0.86   \n",
      "4        2.69                  0.39             1.82             4.32  1.04   \n",
      "\n",
      "   OD280  Proline  Customer_Segment  \n",
      "0   3.92     1065                 1  \n",
      "1   3.40     1050                 1  \n",
      "2   3.17     1185                 1  \n",
      "3   3.45     1480                 1  \n",
      "4   2.93      735                 1  \n",
      "   eruptions  waiting\n",
      "0      3.600       79\n",
      "1      1.800       54\n",
      "2      3.333       74\n",
      "3      2.283       62\n",
      "4      4.533       85\n",
      "   Balance  QualMiles  BonusMiles  BonusTrans  FlightMiles  FlightTrans  \\\n",
      "0    28143          0         174           1            0            0   \n",
      "1    19244          0         215           2            0            0   \n",
      "2    41354          0        4123           4            0            0   \n",
      "3    14776          0         500           1            0            0   \n",
      "4    97752          0       43300          26         2077            4   \n",
      "\n",
      "   DaysSinceEnroll  \n",
      "0             7000  \n",
      "1             6968  \n",
      "2             7034  \n",
      "3             6952  \n",
      "4             6935  \n",
      "   Genre  Age  Annual Income (k$)  Spending Score (1-100)\n",
      "0      1   19                  15                      39\n",
      "1      1   21                  15                      81\n",
      "2      0   20                  16                       6\n",
      "3      0   23                  16                      77\n",
      "4      0   31                  17                      40\n",
      "   col0   col1     col2    col3      col4    col5    col6   col7   col8  \\\n",
      "0   3.0  140.0  43.5000  0.0833  862.8417  0.0254  3.8890  163.0  240.0   \n",
      "1   3.0  135.0  41.9063  0.0790  690.3291  0.0259  3.8340  167.0  239.0   \n",
      "2   2.0  126.0  21.0586  0.0406  308.3583  0.0684  3.1702  174.0  240.0   \n",
      "3   4.0  197.0  77.4805  0.0890  874.4709  0.0243  3.9442  155.0  239.0   \n",
      "4   7.0  193.0  88.8398  0.0884  810.1126  0.0223  3.9318  150.0  236.0   \n",
      "\n",
      "       col9  \n",
      "0  213.3555  \n",
      "1  213.7188  \n",
      "2  227.5859  \n",
      "3  197.2773  \n",
      "4  186.0195  \n"
     ]
    }
   ],
   "source": [
    "for path in paths:\n",
    "    df = pd.read_csv(path)\n",
    "    "
   ]
  }
 ],
 "metadata": {
  "kernelspec": {
   "display_name": "Python 3 (ipykernel)",
   "language": "python",
   "name": "python3"
  },
  "language_info": {
   "codemirror_mode": {
    "name": "ipython",
    "version": 3
   },
   "file_extension": ".py",
   "mimetype": "text/x-python",
   "name": "python",
   "nbconvert_exporter": "python",
   "pygments_lexer": "ipython3",
   "version": "3.10.12"
  }
 },
 "nbformat": 4,
 "nbformat_minor": 5
}
