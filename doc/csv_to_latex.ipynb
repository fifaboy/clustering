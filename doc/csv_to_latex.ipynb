{
 "cells": [
  {
   "cell_type": "code",
   "execution_count": 1,
   "metadata": {},
   "outputs": [],
   "source": [
    "import pandas as pd\n",
    "import os\n",
    "\n",
    "from os.path import join, exists, splitext, isdir"
   ]
  },
  {
   "cell_type": "code",
   "execution_count": 2,
   "metadata": {},
   "outputs": [],
   "source": [
    "shorts = {\n",
    "    'Average': 'Avg.',\n",
    "    'Inertia': 'In.',\n",
    "    'Minimum': 'Min.',\n",
    "    'Time': 'T',\n",
    "    'Iteration': 'It.',\n",
    "}"
   ]
  },
  {
   "cell_type": "code",
   "execution_count": 3,
   "metadata": {},
   "outputs": [],
   "source": [
    "def convert(filepath, filename, num):\n",
    "    name, ext = splitext(filename)\n",
    "    name = name.split('_')[0]\n",
    "    df = pd.read_csv(filepath)\n",
    "    df = df.round(2)\n",
    "#     print(df)\n",
    "    cols = df.columns.tolist()\n",
    "    X = df.to_numpy()\n",
    "    latex = '\\\\begin{table}[h]\\n'\n",
    "    latex += '\\t\\\\begin{center}\\n'\n",
    "    latex += '\\t\\t\\\\begin{tabular}{|'\n",
    "    for col in cols:\n",
    "        latex += 'l|'\n",
    "    latex += '}\\n'\n",
    "    latex += '\\t\\t\\t'\n",
    "    latex += '\\\\hline\\n\\t\\t\\t'\n",
    "    latex += cols[0]\n",
    "    for col in cols[1:]:\n",
    "        latex += ' & '\n",
    "        cur = col\n",
    "        if len(col) > 10:\n",
    "            tokens = col.split(' ')\n",
    "            cur = shorts[tokens[0]]\n",
    "            cur += ' '\n",
    "            cur += shorts[tokens[1]]\n",
    "        latex += cur\n",
    "    rows = df.to_numpy()\n",
    "    for row in rows:\n",
    "        latex += '\\\\\\\\\\\\hline\\n\\t\\t\\t'\n",
    "        latex += '\\\\texttt{'\n",
    "        latex += row[0]\n",
    "        latex += '}'\n",
    "        for x in row[1:]:\n",
    "            latex += ' & '\n",
    "            latex += str(x)\n",
    "    latex += '\\\\\\\\\\\\hline\\n'\n",
    "    latex += '\\t\\t\\\\end{tabular}\\n'\n",
    "    latex += '\\t\\t\\\\caption{Results on '\n",
    "    latex += name\n",
    "    latex += ' data set, '\n",
    "    latex += str(num)\n",
    "    latex += ' clusters}\\n'\n",
    "    latex += '\\t\\t\\\\label{tbl:'\n",
    "    latex += name\n",
    "    latex += str(num)\n",
    "    latex += '}\\n'\n",
    "    latex += '\\t\\\\end{center}\\n'\n",
    "    latex += '\\\\end{table}\\n\\n'\n",
    "    return latex"
   ]
  },
  {
   "cell_type": "code",
   "execution_count": 4,
   "metadata": {},
   "outputs": [],
   "source": [
    "pwd = os.getcwd()\n",
    "datadir = join(pwd, '../out/')\n",
    "nums = [5, 10, 25]\n",
    "outdirs = join(pwd, 'subfiles')"
   ]
  },
  {
   "cell_type": "code",
   "execution_count": 5,
   "metadata": {},
   "outputs": [],
   "source": [
    "for num in nums:\n",
    "    outdir = join(outdirs, str(num))\n",
    "    if not isdir(outdir):\n",
    "        os.makedirs(outdir)"
   ]
  },
  {
   "cell_type": "code",
   "execution_count": 6,
   "metadata": {},
   "outputs": [],
   "source": [
    "files = {}\n",
    "latex_final = ''\n",
    "for num in nums:\n",
    "    file = join(datadir, str(num))\n",
    "    files[num] = []\n",
    "    for f in os.listdir(file):\n",
    "        path = join(file, f)\n",
    "        files[num].append(path)\n",
    "        name, ext = splitext(f)\n",
    "        if ext != '.csv':\n",
    "            continue\n",
    "        tokens = name.split('_')\n",
    "#         print(tokens)\n",
    "        file_out = join(file, tokens[0]+'.tex')\n",
    "        F = open(file_out, 'w')\n",
    "        latex = convert(path, f, num)\n",
    "        F.write(latex)\n",
    "        F.close()\n",
    "        latex_final += latex\n",
    "#         print(file_out)\n",
    "# print(files[5])\n",
    "f = open('kmeans-comparison.tex', 'w')\n",
    "f.write(latex_final)\n",
    "f.close()"
   ]
  }
 ],
 "metadata": {
  "kernelspec": {
   "display_name": "Python 3",
   "language": "python",
   "name": "python3"
  },
  "language_info": {
   "codemirror_mode": {
    "name": "ipython",
    "version": 3
   },
   "file_extension": ".py",
   "mimetype": "text/x-python",
   "name": "python",
   "nbconvert_exporter": "python",
   "pygments_lexer": "ipython3",
   "version": "3.7.6"
  }
 },
 "nbformat": 4,
 "nbformat_minor": 4
}
