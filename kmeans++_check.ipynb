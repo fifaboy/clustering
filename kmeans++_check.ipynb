{
 "cells": [
  {
   "cell_type": "code",
   "execution_count": 1,
   "metadata": {},
   "outputs": [],
   "source": [
    "import os, sys\n",
    "\n",
    "import pandas as pd\n",
    "\n",
    "from kmeans_clustering import KMeansClustering\n",
    "from sklearn.cluster import KMeans\n",
    "from preprocess import process\n",
    "from os.path import join"
   ]
  },
  {
   "cell_type": "code",
   "execution_count": 2,
   "metadata": {},
   "outputs": [],
   "source": [
    "pwd = os.getcwd()\n",
    "datadir = join(pwd, 'data/')\n",
    "file = join(datadir, 'cloud.csv')"
   ]
  },
  {
   "cell_type": "code",
   "execution_count": 3,
   "metadata": {},
   "outputs": [],
   "source": [
    "df = pd.read_csv(file, header=None)"
   ]
  },
  {
   "cell_type": "code",
   "execution_count": 4,
   "metadata": {},
   "outputs": [
    {
     "name": "stdout",
     "output_type": "stream",
     "text": [
      "1024\n"
     ]
    }
   ],
   "source": [
    "print(len(df))"
   ]
  },
  {
   "cell_type": "code",
   "execution_count": 5,
   "metadata": {},
   "outputs": [
    {
     "name": "stdout",
     "output_type": "stream",
     "text": [
      "     0      1        2       3         4       5       6      7      8  \\\n",
      "0  3.0  140.0  43.5000  0.0833  862.8417  0.0254  3.8890  163.0  240.0   \n",
      "1  3.0  135.0  41.9063  0.0790  690.3291  0.0259  3.8340  167.0  239.0   \n",
      "2  2.0  126.0  21.0586  0.0406  308.3583  0.0684  3.1702  174.0  240.0   \n",
      "3  4.0  197.0  77.4805  0.0890  874.4709  0.0243  3.9442  155.0  239.0   \n",
      "4  7.0  193.0  88.8398  0.0884  810.1126  0.0223  3.9318  150.0  236.0   \n",
      "\n",
      "          9  \n",
      "0  213.3555  \n",
      "1  213.7188  \n",
      "2  227.5859  \n",
      "3  197.2773  \n",
      "4  186.0195  \n"
     ]
    }
   ],
   "source": [
    "print(df.head())"
   ]
  },
  {
   "cell_type": "code",
   "execution_count": 6,
   "metadata": {},
   "outputs": [],
   "source": [
    "num_clusters = [10, 25, 50]"
   ]
  },
  {
   "cell_type": "code",
   "execution_count": 7,
   "metadata": {},
   "outputs": [],
   "source": [
    "X = process(df, processor='standard')"
   ]
  },
  {
   "cell_type": "code",
   "execution_count": 8,
   "metadata": {},
   "outputs": [
    {
     "name": "stdout",
     "output_type": "stream",
     "text": [
      "10 1505.5136703564242 1544.1533804506716\n",
      "25 820.5090422450753 851.0717618761595\n",
      "50 524.5915918563469 552.0125545623976\n"
     ]
    }
   ],
   "source": [
    "for num in num_clusters:\n",
    "    kmeans = KMeans(\n",
    "        n_clusters=num,\n",
    "        init='k-means++',\n",
    "    )\n",
    "    kmeans.fit(X)\n",
    "    kmeans2 = KMeansClustering(\n",
    "        n_clusters=num,\n",
    "        init='k-means++',\n",
    "    )\n",
    "    kmeans2.fit(X)\n",
    "    print(num, kmeans.inertia_, kmeans2.inertia_)"
   ]
  }
 ],
 "metadata": {
  "kernelspec": {
   "display_name": "Python 3",
   "language": "python",
   "name": "python3"
  },
  "language_info": {
   "codemirror_mode": {
    "name": "ipython",
    "version": 3
   },
   "file_extension": ".py",
   "mimetype": "text/x-python",
   "name": "python",
   "nbconvert_exporter": "python",
   "pygments_lexer": "ipython3",
   "version": "3.7.4"
  }
 },
 "nbformat": 4,
 "nbformat_minor": 2
}
