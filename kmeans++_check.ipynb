{
 "cells": [
  {
   "cell_type": "code",
   "execution_count": 38,
   "metadata": {},
   "outputs": [],
   "source": [
    "import os, sys\n",
    "\n",
    "import pandas as pd\n",
    "\n",
    "from kmeans_clustering import KMeansClustering\n",
    "from sklearn.cluster import KMeans\n",
    "from preprocess import process\n",
    "from os.path import join"
   ]
  },
  {
   "cell_type": "code",
   "execution_count": 39,
   "metadata": {},
   "outputs": [],
   "source": [
    "pwd = os.getcwd()\n",
    "datadir = join(pwd, 'data/')\n",
    "file = join(datadir, 'cloud.csv')"
   ]
  },
  {
   "cell_type": "code",
   "execution_count": 40,
   "metadata": {},
   "outputs": [],
   "source": [
    "df = pd.read_csv(file, header=None)"
   ]
  },
  {
   "cell_type": "code",
   "execution_count": 41,
   "metadata": {},
   "outputs": [
    {
     "name": "stdout",
     "output_type": "stream",
     "text": [
      "1024\n"
     ]
    }
   ],
   "source": [
    "print(len(df))"
   ]
  },
  {
   "cell_type": "code",
   "execution_count": 42,
   "metadata": {},
   "outputs": [
    {
     "name": "stdout",
     "output_type": "stream",
     "text": [
      "     0      1        2       3         4       5       6      7      8  \\\n",
      "0  3.0  140.0  43.5000  0.0833  862.8417  0.0254  3.8890  163.0  240.0   \n",
      "1  3.0  135.0  41.9063  0.0790  690.3291  0.0259  3.8340  167.0  239.0   \n",
      "2  2.0  126.0  21.0586  0.0406  308.3583  0.0684  3.1702  174.0  240.0   \n",
      "3  4.0  197.0  77.4805  0.0890  874.4709  0.0243  3.9442  155.0  239.0   \n",
      "4  7.0  193.0  88.8398  0.0884  810.1126  0.0223  3.9318  150.0  236.0   \n",
      "\n",
      "          9  \n",
      "0  213.3555  \n",
      "1  213.7188  \n",
      "2  227.5859  \n",
      "3  197.2773  \n",
      "4  186.0195  \n"
     ]
    }
   ],
   "source": [
    "print(df.head())"
   ]
  },
  {
   "cell_type": "code",
   "execution_count": 43,
   "metadata": {},
   "outputs": [],
   "source": [
    "num_clusters = [5, 10, 25, 50]"
   ]
  },
  {
   "cell_type": "code",
   "execution_count": 44,
   "metadata": {},
   "outputs": [],
   "source": [
    "X = process(df, processor=\"standard\")"
   ]
  },
  {
   "cell_type": "code",
   "execution_count": 45,
   "metadata": {},
   "outputs": [],
   "source": [
    "results = pd.DataFrame({'number of clusters':[], 'kmeans++ (scikit-learn) inertia':[], 'kmeans++ (our implementation) inertia':[]})"
   ]
  },
  {
   "cell_type": "code",
   "execution_count": 46,
   "metadata": {},
   "outputs": [
    {
     "name": "stdout",
     "output_type": "stream",
     "text": [
      "5 2519.8260600452236 2519.7917088402414\n",
      "10 1504.9731147163436 1523.4388434693396\n",
      "25 824.1245323443496 848.6785393514773\n",
      "50 522.4971563232805 525.8684982114252\n"
     ]
    }
   ],
   "source": [
    "for num in num_clusters:\n",
    "    kmeans = KMeans(\n",
    "        n_clusters=num,\n",
    "        init='k-means++',\n",
    "    )\n",
    "    kmeans.fit(X)\n",
    "    kmeans2 = KMeansClustering(\n",
    "        n_clusters=num,\n",
    "        init='k-means++',\n",
    "    )\n",
    "    kmeans2.fit(X)\n",
    "    print(num, kmeans.inertia_, kmeans2.inertia_)\n",
    "    results.loc[-1] = [num, kmeans.inertia_, kmeans2.inertia_]\n",
    "    results.index = results.index + 1\n",
    "#     results = results.sort_index()"
   ]
  },
  {
   "cell_type": "code",
   "execution_count": 47,
   "metadata": {},
   "outputs": [
    {
     "data": {
      "text/html": [
       "<div>\n",
       "<style scoped>\n",
       "    .dataframe tbody tr th:only-of-type {\n",
       "        vertical-align: middle;\n",
       "    }\n",
       "\n",
       "    .dataframe tbody tr th {\n",
       "        vertical-align: top;\n",
       "    }\n",
       "\n",
       "    .dataframe thead th {\n",
       "        text-align: right;\n",
       "    }\n",
       "</style>\n",
       "<table border=\"1\" class=\"dataframe\">\n",
       "  <thead>\n",
       "    <tr style=\"text-align: right;\">\n",
       "      <th></th>\n",
       "      <th>number of clusters</th>\n",
       "      <th>kmeans++ (scikit-learn) inertia</th>\n",
       "      <th>kmeans++ (our implementation) inertia</th>\n",
       "    </tr>\n",
       "  </thead>\n",
       "  <tbody>\n",
       "    <tr>\n",
       "      <th>3</th>\n",
       "      <td>5.0</td>\n",
       "      <td>2519.826060</td>\n",
       "      <td>2519.791709</td>\n",
       "    </tr>\n",
       "    <tr>\n",
       "      <th>2</th>\n",
       "      <td>10.0</td>\n",
       "      <td>1504.973115</td>\n",
       "      <td>1523.438843</td>\n",
       "    </tr>\n",
       "    <tr>\n",
       "      <th>1</th>\n",
       "      <td>25.0</td>\n",
       "      <td>824.124532</td>\n",
       "      <td>848.678539</td>\n",
       "    </tr>\n",
       "    <tr>\n",
       "      <th>0</th>\n",
       "      <td>50.0</td>\n",
       "      <td>522.497156</td>\n",
       "      <td>525.868498</td>\n",
       "    </tr>\n",
       "  </tbody>\n",
       "</table>\n",
       "</div>"
      ],
      "text/plain": [
       "   number of clusters  kmeans++ (scikit-learn) inertia  \\\n",
       "3                 5.0                      2519.826060   \n",
       "2                10.0                      1504.973115   \n",
       "1                25.0                       824.124532   \n",
       "0                50.0                       522.497156   \n",
       "\n",
       "   kmeans++ (our implementation) inertia  \n",
       "3                            2519.791709  \n",
       "2                            1523.438843  \n",
       "1                             848.678539  \n",
       "0                             525.868498  "
      ]
     },
     "execution_count": 47,
     "metadata": {},
     "output_type": "execute_result"
    }
   ],
   "source": [
    "results.to_csv(datadir+'./out/comparion re')"
   ]
  }
 ],
 "metadata": {
  "kernelspec": {
   "display_name": "Python 3",
   "language": "python",
   "name": "python3"
  },
  "language_info": {
   "codemirror_mode": {
    "name": "ipython",
    "version": 3
   },
   "file_extension": ".py",
   "mimetype": "text/x-python",
   "name": "python",
   "nbconvert_exporter": "python",
   "pygments_lexer": "ipython3",
   "version": "3.7.3"
  }
 },
 "nbformat": 4,
 "nbformat_minor": 2
}
