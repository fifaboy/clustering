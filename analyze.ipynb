{
 "cells": [
  {
   "cell_type": "code",
   "execution_count": 1,
   "id": "4d377a75",
   "metadata": {},
   "outputs": [],
   "source": [
    "import pandas as pd"
   ]
  },
  {
   "cell_type": "code",
   "execution_count": 2,
   "id": "5fb0019c",
   "metadata": {},
   "outputs": [],
   "source": [
    "df = pd.read_csv('out/kmeans.csv')"
   ]
  },
  {
   "cell_type": "code",
   "execution_count": 3,
   "id": "0bdf727f",
   "metadata": {},
   "outputs": [
    {
     "data": {
      "text/plain": [
       "(270, 6)"
      ]
     },
     "execution_count": 3,
     "metadata": {},
     "output_type": "execute_result"
    }
   ],
   "source": [
    "df.shape"
   ]
  },
  {
   "cell_type": "code",
   "execution_count": 4,
   "id": "ac888b78",
   "metadata": {},
   "outputs": [
    {
     "data": {
      "text/html": [
       "<div>\n",
       "<style scoped>\n",
       "    .dataframe tbody tr th:only-of-type {\n",
       "        vertical-align: middle;\n",
       "    }\n",
       "\n",
       "    .dataframe tbody tr th {\n",
       "        vertical-align: top;\n",
       "    }\n",
       "\n",
       "    .dataframe thead th {\n",
       "        text-align: right;\n",
       "    }\n",
       "</style>\n",
       "<table border=\"1\" class=\"dataframe\">\n",
       "  <thead>\n",
       "    <tr style=\"text-align: right;\">\n",
       "      <th></th>\n",
       "      <th>n_cluster</th>\n",
       "      <th>deterministic</th>\n",
       "      <th>det_iter</th>\n",
       "      <th>k</th>\n",
       "      <th>kmeans++</th>\n",
       "      <th>iter</th>\n",
       "    </tr>\n",
       "  </thead>\n",
       "  <tbody>\n",
       "    <tr>\n",
       "      <th>0</th>\n",
       "      <td>5</td>\n",
       "      <td>6.172807e+12</td>\n",
       "      <td>28</td>\n",
       "      <td>1</td>\n",
       "      <td>6.009280e+12</td>\n",
       "      <td>8</td>\n",
       "    </tr>\n",
       "    <tr>\n",
       "      <th>1</th>\n",
       "      <td>5</td>\n",
       "      <td>6.172807e+12</td>\n",
       "      <td>28</td>\n",
       "      <td>2</td>\n",
       "      <td>5.724491e+12</td>\n",
       "      <td>51</td>\n",
       "    </tr>\n",
       "    <tr>\n",
       "      <th>2</th>\n",
       "      <td>5</td>\n",
       "      <td>6.172807e+12</td>\n",
       "      <td>28</td>\n",
       "      <td>3</td>\n",
       "      <td>5.788610e+12</td>\n",
       "      <td>23</td>\n",
       "    </tr>\n",
       "    <tr>\n",
       "      <th>3</th>\n",
       "      <td>5</td>\n",
       "      <td>6.172807e+12</td>\n",
       "      <td>28</td>\n",
       "      <td>4</td>\n",
       "      <td>5.724491e+12</td>\n",
       "      <td>29</td>\n",
       "    </tr>\n",
       "    <tr>\n",
       "      <th>4</th>\n",
       "      <td>5</td>\n",
       "      <td>6.172807e+12</td>\n",
       "      <td>28</td>\n",
       "      <td>5</td>\n",
       "      <td>5.788501e+12</td>\n",
       "      <td>11</td>\n",
       "    </tr>\n",
       "  </tbody>\n",
       "</table>\n",
       "</div>"
      ],
      "text/plain": [
       "   n_cluster  deterministic  det_iter  k      kmeans++  iter\n",
       "0          5   6.172807e+12        28  1  6.009280e+12     8\n",
       "1          5   6.172807e+12        28  2  5.724491e+12    51\n",
       "2          5   6.172807e+12        28  3  5.788610e+12    23\n",
       "3          5   6.172807e+12        28  4  5.724491e+12    29\n",
       "4          5   6.172807e+12        28  5  5.788501e+12    11"
      ]
     },
     "execution_count": 4,
     "metadata": {},
     "output_type": "execute_result"
    }
   ],
   "source": [
    "df.head()"
   ]
  },
  {
   "cell_type": "code",
   "execution_count": 5,
   "id": "4043d5c6",
   "metadata": {},
   "outputs": [
    {
     "data": {
      "text/html": [
       "<div>\n",
       "<style scoped>\n",
       "    .dataframe tbody tr th:only-of-type {\n",
       "        vertical-align: middle;\n",
       "    }\n",
       "\n",
       "    .dataframe tbody tr th {\n",
       "        vertical-align: top;\n",
       "    }\n",
       "\n",
       "    .dataframe thead th {\n",
       "        text-align: right;\n",
       "    }\n",
       "</style>\n",
       "<table border=\"1\" class=\"dataframe\">\n",
       "  <thead>\n",
       "    <tr style=\"text-align: right;\">\n",
       "      <th></th>\n",
       "      <th>n_cluster</th>\n",
       "      <th>deterministic</th>\n",
       "      <th>det_iter</th>\n",
       "      <th>inertia_min</th>\n",
       "      <th>inertia_max</th>\n",
       "      <th>inertia_mean</th>\n",
       "      <th>inertia_std</th>\n",
       "      <th>iter_min</th>\n",
       "      <th>iter_max</th>\n",
       "      <th>iter_mean</th>\n",
       "      <th>iter_std</th>\n",
       "      <th>inertia_ratio</th>\n",
       "      <th>min_max_range</th>\n",
       "      <th>min_max_ratio</th>\n",
       "      <th>iter_ratio</th>\n",
       "    </tr>\n",
       "  </thead>\n",
       "  <tbody>\n",
       "    <tr>\n",
       "      <th>0</th>\n",
       "      <td>5</td>\n",
       "      <td>19.13</td>\n",
       "      <td>5</td>\n",
       "      <td>18.95</td>\n",
       "      <td>21.51</td>\n",
       "      <td>19.59</td>\n",
       "      <td>0.76</td>\n",
       "      <td>1</td>\n",
       "      <td>7</td>\n",
       "      <td>5</td>\n",
       "      <td>1.65</td>\n",
       "      <td>97.68</td>\n",
       "      <td>6</td>\n",
       "      <td>700.0</td>\n",
       "      <td>100.00</td>\n",
       "    </tr>\n",
       "    <tr>\n",
       "      <th>1</th>\n",
       "      <td>5</td>\n",
       "      <td>60.57</td>\n",
       "      <td>13</td>\n",
       "      <td>50.33</td>\n",
       "      <td>63.37</td>\n",
       "      <td>55.79</td>\n",
       "      <td>5.72</td>\n",
       "      <td>2</td>\n",
       "      <td>9</td>\n",
       "      <td>6</td>\n",
       "      <td>2.37</td>\n",
       "      <td>108.57</td>\n",
       "      <td>7</td>\n",
       "      <td>450.0</td>\n",
       "      <td>216.67</td>\n",
       "    </tr>\n",
       "    <tr>\n",
       "      <th>2</th>\n",
       "      <td>5</td>\n",
       "      <td>2180.89</td>\n",
       "      <td>5</td>\n",
       "      <td>2036.83</td>\n",
       "      <td>2382.23</td>\n",
       "      <td>2174.08</td>\n",
       "      <td>137.28</td>\n",
       "      <td>2</td>\n",
       "      <td>6</td>\n",
       "      <td>4</td>\n",
       "      <td>1.51</td>\n",
       "      <td>100.31</td>\n",
       "      <td>4</td>\n",
       "      <td>300.0</td>\n",
       "      <td>125.00</td>\n",
       "    </tr>\n",
       "    <tr>\n",
       "      <th>3</th>\n",
       "      <td>5</td>\n",
       "      <td>75528.59</td>\n",
       "      <td>5</td>\n",
       "      <td>75412.60</td>\n",
       "      <td>97864.74</td>\n",
       "      <td>80265.34</td>\n",
       "      <td>7009.92</td>\n",
       "      <td>4</td>\n",
       "      <td>17</td>\n",
       "      <td>9</td>\n",
       "      <td>4.58</td>\n",
       "      <td>94.10</td>\n",
       "      <td>13</td>\n",
       "      <td>425.0</td>\n",
       "      <td>55.56</td>\n",
       "    </tr>\n",
       "    <tr>\n",
       "      <th>4</th>\n",
       "      <td>5</td>\n",
       "      <td>989292.50</td>\n",
       "      <td>5</td>\n",
       "      <td>916424.19</td>\n",
       "      <td>1061626.89</td>\n",
       "      <td>1002182.10</td>\n",
       "      <td>55341.83</td>\n",
       "      <td>1</td>\n",
       "      <td>9</td>\n",
       "      <td>6</td>\n",
       "      <td>2.76</td>\n",
       "      <td>98.71</td>\n",
       "      <td>8</td>\n",
       "      <td>900.0</td>\n",
       "      <td>83.33</td>\n",
       "    </tr>\n",
       "  </tbody>\n",
       "</table>\n",
       "</div>"
      ],
      "text/plain": [
       "   n_cluster  deterministic  det_iter  inertia_min  inertia_max  inertia_mean  \\\n",
       "0          5          19.13         5        18.95        21.51         19.59   \n",
       "1          5          60.57        13        50.33        63.37         55.79   \n",
       "2          5        2180.89         5      2036.83      2382.23       2174.08   \n",
       "3          5       75528.59         5     75412.60     97864.74      80265.34   \n",
       "4          5      989292.50         5    916424.19   1061626.89    1002182.10   \n",
       "\n",
       "   inertia_std  iter_min  iter_max  iter_mean  iter_std  inertia_ratio  \\\n",
       "0         0.76         1         7          5      1.65          97.68   \n",
       "1         5.72         2         9          6      2.37         108.57   \n",
       "2       137.28         2         6          4      1.51         100.31   \n",
       "3      7009.92         4        17          9      4.58          94.10   \n",
       "4     55341.83         1         9          6      2.76          98.71   \n",
       "\n",
       "   min_max_range  min_max_ratio  iter_ratio  \n",
       "0              6          700.0      100.00  \n",
       "1              7          450.0      216.67  \n",
       "2              4          300.0      125.00  \n",
       "3             13          425.0       55.56  \n",
       "4              8          900.0       83.33  "
      ]
     },
     "execution_count": 5,
     "metadata": {},
     "output_type": "execute_result"
    }
   ],
   "source": [
    "df_group = df.groupby(\n",
    "    by=['n_cluster', 'deterministic', 'det_iter'],\n",
    "    as_index=False,\n",
    ")[['kmeans++', 'iter']].agg(\n",
    "    inertia_min=('kmeans++', 'min'),\n",
    "    inertia_max=('kmeans++', 'max'),\n",
    "    inertia_mean=('kmeans++', 'mean'),\n",
    "    inertia_std=('kmeans++', 'std'),\n",
    "    iter_min=('iter', 'min'),\n",
    "    iter_max=('iter', 'max'),\n",
    "    iter_mean=('iter', 'mean'),\n",
    "    iter_std=('iter', 'std'),\n",
    ")\n",
    "df_group['inertia_ratio'] = df_group['deterministic']/df_group['inertia_mean']*100\n",
    "df_group['min_max_range'] = df_group['iter_max']-df_group['iter_min']\n",
    "df_group['min_max_ratio'] = df_group['iter_max']/df_group['iter_min']*100\n",
    "df_group['iter_mean'] = df_group['iter_mean'].apply(\n",
    "    lambda x: int(x) if x==int(x) else int(x)+1\n",
    ")\n",
    "df_group['iter_ratio'] = df_group['det_iter']/df_group['iter_mean']*100\n",
    "df_group = df_group.round(2)\n",
    "df_group.head()"
   ]
  },
  {
   "cell_type": "code",
   "execution_count": 6,
   "id": "b116f3d3",
   "metadata": {},
   "outputs": [
    {
     "data": {
      "text/plain": [
       "(27, 15)"
      ]
     },
     "execution_count": 6,
     "metadata": {},
     "output_type": "execute_result"
    }
   ],
   "source": [
    "df_group.shape"
   ]
  },
  {
   "cell_type": "code",
   "execution_count": 7,
   "id": "4272a81c",
   "metadata": {},
   "outputs": [
    {
     "data": {
      "text/plain": [
       "inertia_ratio    101.947037\n",
       "iter_ratio       105.168519\n",
       "dtype: float64"
      ]
     },
     "execution_count": 7,
     "metadata": {},
     "output_type": "execute_result"
    }
   ],
   "source": [
    "df_group[['inertia_ratio', 'iter_ratio']].mean()"
   ]
  },
  {
   "cell_type": "code",
   "execution_count": null,
   "id": "06a186b3",
   "metadata": {},
   "outputs": [],
   "source": []
  }
 ],
 "metadata": {
  "kernelspec": {
   "display_name": "Python 3 (ipykernel)",
   "language": "python",
   "name": "python3"
  },
  "language_info": {
   "codemirror_mode": {
    "name": "ipython",
    "version": 3
   },
   "file_extension": ".py",
   "mimetype": "text/x-python",
   "name": "python",
   "nbconvert_exporter": "python",
   "pygments_lexer": "ipython3",
   "version": "3.8.10"
  }
 },
 "nbformat": 4,
 "nbformat_minor": 5
}
