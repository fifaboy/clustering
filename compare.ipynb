{
 "cells": [
  {
   "cell_type": "code",
   "execution_count": 1,
   "metadata": {},
   "outputs": [],
   "source": [
    "import os\n",
    "\n",
    "from tqdm import tqdm\n",
    "\n",
    "import pandas as pd\n",
    "import numpy as np\n",
    "\n",
    "from run_kmeans import RunKmeans\n",
    "\n",
    "from os.path import join\n",
    "from numpy import min, mean, sum"
   ]
  },
  {
   "cell_type": "code",
   "execution_count": 2,
   "metadata": {},
   "outputs": [],
   "source": [
    "pwd = os.getcwd()\n",
    "datadir = join(pwd, 'data/')\n",
    "files = os.listdir(datadir)\n",
    "filename = 'boston.csv'\n",
    "file = join(datadir, filename)\n",
    "num_clusters = [\n",
    "    5,\n",
    "]\n",
    "inits = [\n",
    "    'random',\n",
    "    'k-means++',\n",
    "    'coc',\n",
    "    'orss',\n",
    "]"
   ]
  },
  {
   "cell_type": "code",
   "execution_count": 3,
   "metadata": {},
   "outputs": [
    {
     "name": "stderr",
     "output_type": "stream",
     "text": [
      "\r",
      "  0%|                                                                                            | 0/9 [00:00<?, ?it/s]"
     ]
    },
    {
     "name": "stdout",
     "output_type": "stream",
     "text": [
      "airlines.csv\n",
      "random 5788610179951.841 1.7710633150000006\n",
      "k-means++ 5875490350040.696 1.1635343500000002\n",
      "orss 5873660965260.748 1.3813285949999994\n",
      "coc 5804937590275.444 1.3317915850000006\n"
     ]
    },
    {
     "name": "stderr",
     "output_type": "stream",
     "text": [
      "\r",
      " 11%|█████████▏                                                                         | 1/9 [01:52<15:03, 112.97s/it]"
     ]
    },
    {
     "name": "stdout",
     "output_type": "stream",
     "text": [
      "boston.csv\n",
      "random 2555845.207785929 0.06625820000000004\n",
      "k-means++ 1534215.3203799794 0.07534441499999786\n",
      "orss 1588181.376195631 0.0673570049999995\n",
      "coc 1827350.0453149527 0.07257541499999931\n"
     ]
    },
    {
     "name": "stderr",
     "output_type": "stream",
     "text": [
      "\r",
      " 22%|██████████████████▋                                                                 | 2/9 [01:58<09:25, 80.77s/it]"
     ]
    },
    {
     "name": "stdout",
     "output_type": "stream",
     "text": [
      "cloud.csv\n",
      "random 17700272.49425772 0.5223773000000002\n",
      "k-means++ 17901520.953646604 0.2956067300000001\n",
      "orss 18020627.897469677 0.3637845499999983\n",
      "coc 17938828.906314038 0.4447220600000037\n"
     ]
    },
    {
     "name": "stderr",
     "output_type": "stream",
     "text": [
      "\r",
      " 33%|████████████████████████████                                                        | 3/9 [02:31<06:37, 66.31s/it]"
     ]
    },
    {
     "name": "stdout",
     "output_type": "stream",
     "text": [
      "iris.csv\n",
      "random 60.26218522556165 0.015103114999998012\n",
      "k-means++ 54.86651980216542 0.01814975000000345\n",
      "orss 58.483704602128604 0.017699475000003417\n",
      "coc 63.74429950918075 0.015480465000000266\n"
     ]
    },
    {
     "name": "stderr",
     "output_type": "stream",
     "text": [
      "\r",
      " 44%|█████████████████████████████████████▎                                              | 4/9 [02:32<03:54, 46.82s/it]"
     ]
    },
    {
     "name": "stdout",
     "output_type": "stream",
     "text": [
      "mall.csv\n",
      "random 80901.41799797065 0.0233644049999981\n",
      "k-means++ 83055.26881142435 0.024756505000000574\n",
      "orss 83971.42281319314 0.027729870000000288\n",
      "coc 80389.37986181176 0.023156925000000682\n"
     ]
    },
    {
     "name": "stderr",
     "output_type": "stream",
     "text": [
      "\r",
      " 56%|██████████████████████████████████████████████▋                                     | 5/9 [02:34<02:13, 33.37s/it]"
     ]
    },
    {
     "name": "stdout",
     "output_type": "stream",
     "text": [
      "moons.csv\n",
      "random 24.039725490660825 0.010685010000000262\n",
      "k-means++ 20.745264948827494 0.011164390000000423\n",
      "orss 22.20539754861703 0.011582544999997424\n",
      "coc 21.02980051887081 0.010020530000002737\n"
     ]
    },
    {
     "name": "stderr",
     "output_type": "stream",
     "text": [
      "\r",
      " 67%|████████████████████████████████████████████████████████                            | 6/9 [02:35<01:10, 23.62s/it]"
     ]
    },
    {
     "name": "stdout",
     "output_type": "stream",
     "text": [
      "old.csv\n",
      "random 2186.9110031637656 0.032873789999997884\n",
      "k-means++ 2186.859208999635 0.028082164999997872\n",
      "orss 2250.492939126717 0.02927698500000133\n",
      "coc 2203.324430104535 0.028553644999998084\n"
     ]
    },
    {
     "name": "stderr",
     "output_type": "stream",
     "text": [
      "\r",
      " 78%|█████████████████████████████████████████████████████████████████▎                  | 7/9 [02:37<00:34, 17.25s/it]"
     ]
    },
    {
     "name": "stdout",
     "output_type": "stream",
     "text": [
      "schools.csv\n",
      "random 5895761838.048597 0.019081374999997534\n",
      "k-means++ 6040321029.971743 0.02355641999999989\n",
      "orss 6109999678.367918 0.021839594999998723\n",
      "coc 6337495450.436213 0.023498739999996587\n"
     ]
    },
    {
     "name": "stderr",
     "output_type": "stream",
     "text": [
      "\r",
      " 89%|██████████████████████████████████████████████████████████████████████████▋         | 8/9 [02:39<00:12, 12.61s/it]"
     ]
    },
    {
     "name": "stdout",
     "output_type": "stream",
     "text": [
      "Wine.csv\n",
      "random 1000744.5665473668 0.027716165000002492\n",
      "k-means++ 1006911.7779631969 0.024208184999999105\n",
      "orss 990114.7305133507 0.026345010000002844\n",
      "coc 1037793.4601543492 0.02640023999999812\n"
     ]
    },
    {
     "name": "stderr",
     "output_type": "stream",
     "text": [
      "100%|████████████████████████████████████████████████████████████████████████████████████| 9/9 [02:41<00:00, 17.96s/it]\n"
     ]
    }
   ],
   "source": [
    "for file in tqdm(files[:]):\n",
    "    filepath = join(datadir, file)\n",
    "    comparator = RunKmeans(\n",
    "        n_clusters=5,\n",
    "        num_exp=20,\n",
    "        file=filepath,\n",
    "    )\n",
    "    inertias, times, iters = comparator.run_kmeans()\n",
    "    print(file)\n",
    "    for k in inertias:\n",
    "        for inertia in inertias[k]:\n",
    "            if type(inertia) == type(np.float64(1.0)):\n",
    "                continue\n",
    "            elif type(inertia) == type(np.int64(1.0)):\n",
    "                continue\n",
    "            else:\n",
    "                raise TypeError(inertia, 'not float or int')\n",
    "        print(k, mean(inertias[k]), mean(times[k]))"
   ]
  }
 ],
 "metadata": {
  "kernelspec": {
   "display_name": "Python 3",
   "language": "python",
   "name": "python3"
  },
  "language_info": {
   "codemirror_mode": {
    "name": "ipython",
    "version": 3
   },
   "file_extension": ".py",
   "mimetype": "text/x-python",
   "name": "python",
   "nbconvert_exporter": "python",
   "pygments_lexer": "ipython3",
   "version": "3.7.4"
  }
 },
 "nbformat": 4,
 "nbformat_minor": 2
}
