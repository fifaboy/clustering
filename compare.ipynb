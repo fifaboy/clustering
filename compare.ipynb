{
 "cells": [
  {
   "cell_type": "code",
   "execution_count": 1,
   "metadata": {},
   "outputs": [],
   "source": [
    "import os\n",
    "\n",
    "import pandas as pd\n",
    "\n",
    "from run_kmeans import RunKmeans\n",
    "\n",
    "from os.path import join\n",
    "from numpy import min, mean, sum"
   ]
  },
  {
   "cell_type": "code",
   "execution_count": 2,
   "metadata": {},
   "outputs": [],
   "source": [
    "pwd = os.getcwd()\n",
    "datadir = join(pwd, 'data/')\n",
    "files = os.listdir(datadir)\n",
    "filename = 'boston.csv'\n",
    "file = join(datadir, filename)\n",
    "num_clusters = [\n",
    "    5,\n",
    "]\n",
    "inits = [\n",
    "    'random',\n",
    "    'k-means++',\n",
    "    'coc',\n",
    "    'orss',\n",
    "]"
   ]
  },
  {
   "cell_type": "code",
   "execution_count": 3,
   "metadata": {},
   "outputs": [
    {
     "name": "stdout",
     "output_type": "stream",
     "text": [
      "random\n",
      "[[1.25948e+05 0.00000e+00 1.51550e+04 1.50000e+01 0.00000e+00 0.00000e+00\n",
      "  6.76100e+03]\n",
      " [2.11700e+03 0.00000e+00 7.69000e+02 7.00000e+00 0.00000e+00 0.00000e+00\n",
      "  5.60900e+03]\n",
      " [1.89423e+05 0.00000e+00 6.35840e+04 3.10000e+01 6.00000e+02 1.00000e+00\n",
      "  6.47600e+03]\n",
      " [3.99470e+04 0.00000e+00 1.75000e+03 7.00000e+00 0.00000e+00 0.00000e+00\n",
      "  3.92200e+03]\n",
      " [1.60790e+04 0.00000e+00 6.08500e+03 4.00000e+00 0.00000e+00 0.00000e+00\n",
      "  1.67000e+03]]\n",
      "k-means++\n",
      "[[2.68960e+04 0.00000e+00 5.36400e+03 1.50000e+01 0.00000e+00 0.00000e+00\n",
      "  3.68500e+03]\n",
      " [3.26704e+05 0.00000e+00 3.74080e+04 1.90000e+01 0.00000e+00 0.00000e+00\n",
      "  2.96200e+03]\n",
      " [5.30270e+04 0.00000e+00 0.00000e+00 0.00000e+00 0.00000e+00 0.00000e+00\n",
      "  4.58500e+03]\n",
      " [1.56230e+05 0.00000e+00 5.30000e+03 8.00000e+00 1.30000e+03 5.00000e+00\n",
      "  7.26000e+03]\n",
      " [6.80230e+04 0.00000e+00 1.19512e+05 3.30000e+01 5.00000e+02 1.00000e+00\n",
      "  4.70200e+03]]\n",
      "orss\n",
      "[[7.43745e+05 2.06600e+03 4.10000e+03 2.00000e+01 2.50000e+03 1.80000e+01\n",
      "  8.22800e+03]\n",
      " [1.58760e+04 0.00000e+00 0.00000e+00 0.00000e+00 0.00000e+00 0.00000e+00\n",
      "  4.51200e+03]\n",
      " [1.89054e+05 0.00000e+00 1.79000e+04 2.50000e+01 7.40000e+03 2.30000e+01\n",
      "  3.98500e+03]\n",
      " [1.10893e+05 0.00000e+00 4.65300e+03 6.00000e+00 0.00000e+00 0.00000e+00\n",
      "  3.64500e+03]\n",
      " [1.49285e+05 0.00000e+00 1.56560e+04 1.30000e+01 3.25000e+03 6.00000e+00\n",
      "  7.56100e+03]]\n",
      "coc\n",
      "[[1.81770e+04 0.00000e+00 1.20400e+04 1.20000e+01 0.00000e+00 0.00000e+00\n",
      "  6.69000e+03]\n",
      " [5.98740e+04 0.00000e+00 0.00000e+00 0.00000e+00 0.00000e+00 0.00000e+00\n",
      "  3.98600e+03]\n",
      " [9.30410e+05 0.00000e+00 2.11284e+05 1.80000e+01 2.25000e+03 6.00000e+00\n",
      "  7.64000e+03]\n",
      " [2.44070e+04 0.00000e+00 9.23000e+02 1.00000e+01 0.00000e+00 0.00000e+00\n",
      "  3.91000e+03]\n",
      " [1.26020e+04 0.00000e+00 5.63200e+03 5.00000e+00 5.00000e+02 1.00000e+00\n",
      "  1.58000e+02]]\n",
      "var\n",
      "[[0. 0. 0. 0. 0. 0. 0.]\n",
      " [0. 0. 0. 0. 0. 0. 0.]\n",
      " [0. 0. 0. 0. 0. 0. 0.]\n",
      " [0. 0. 0. 0. 0. 0. 0.]\n",
      " [0. 0. 0. 0. 0. 0. 0.]]\n"
     ]
    }
   ],
   "source": [
    "for file in files[:1]:\n",
    "    filepath = join(datadir, file)\n",
    "    comparator = RunKmeans(\n",
    "        n_clusters=5,\n",
    "        num_exp=1,\n",
    "        file=filepath,\n",
    "    )\n",
    "    comparator.run_kmeans()"
   ]
  }
 ],
 "metadata": {
  "kernelspec": {
   "display_name": "Python 3",
   "language": "python",
   "name": "python3"
  },
  "language_info": {
   "codemirror_mode": {
    "name": "ipython",
    "version": 3
   },
   "file_extension": ".py",
   "mimetype": "text/x-python",
   "name": "python",
   "nbconvert_exporter": "python",
   "pygments_lexer": "ipython3",
   "version": "3.7.4"
  }
 },
 "nbformat": 4,
 "nbformat_minor": 2
}
