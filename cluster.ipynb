{
 "cells": [
  {
   "cell_type": "code",
   "execution_count": 1,
   "metadata": {},
   "outputs": [],
   "source": [
    "import os, sys, timeit\n",
    "\n",
    "import numpy as np\n",
    "import pandas as pd\n",
    "\n",
    "from os.path import join\n",
    "\n",
    "from kmeans_clustering import KMeansClustering\n",
    "from sklearn.decomposition import PCA\n",
    "from sklearn.preprocessing import MinMaxScaler, StandardScaler\n",
    "from sklearn.mixture import GaussianMixture\n",
    "\n",
    "import matplotlib.pyplot as plt\n",
    "\n",
    "%matplotlib inline"
   ]
  },
  {
   "cell_type": "code",
   "execution_count": 2,
   "metadata": {},
   "outputs": [],
   "source": [
    "pwd = os.getcwd()\n",
    "data_dir = join(pwd, 'data/')\n",
    "need_normalization = True\n",
    "need_standardization = False\n",
    "need_pca = True\n",
    "filename = 'Wine.csv'\n",
    "datapath = join(data_dir, filename)\n",
    "num_comps = 2\n",
    "num_clusters = 5\n",
    "num_iterations = 500\n",
    "num_iter_exp = 100\n",
    "verbose = False"
   ]
  },
  {
   "cell_type": "code",
   "execution_count": 3,
   "metadata": {},
   "outputs": [],
   "source": [
    "# f = open('data/data.csv')\n",
    "# lines = f.read()\n",
    "# print(type(lines))\n",
    "# new_lines = ''\n",
    "# for line in lines:\n",
    "#     new_lines += str(line.encode('utf-8').strip())\n",
    "# print(len(new_lines))"
   ]
  },
  {
   "cell_type": "code",
   "execution_count": 4,
   "metadata": {},
   "outputs": [],
   "source": [
    "df = pd.read_csv(\n",
    "    datapath, \n",
    "    low_memory=False,\n",
    "    encoding='utf-8',\n",
    "#     sep=',',\n",
    "#     header=None,\n",
    ")"
   ]
  },
  {
   "cell_type": "code",
   "execution_count": 5,
   "metadata": {},
   "outputs": [
    {
     "name": "stdout",
     "output_type": "stream",
     "text": [
      "178\n"
     ]
    }
   ],
   "source": [
    "print(len(df))"
   ]
  },
  {
   "cell_type": "code",
   "execution_count": 6,
   "metadata": {},
   "outputs": [
    {
     "name": "stdout",
     "output_type": "stream",
     "text": [
      "   Alcohol  Malic_Acid   Ash  Ash_Alcanity  Magnesium  Total_Phenols  \\\n",
      "0    14.23        1.71  2.43          15.6        127           2.80   \n",
      "1    13.20        1.78  2.14          11.2        100           2.65   \n",
      "2    13.16        2.36  2.67          18.6        101           2.80   \n",
      "3    14.37        1.95  2.50          16.8        113           3.85   \n",
      "4    13.24        2.59  2.87          21.0        118           2.80   \n",
      "\n",
      "   Flavanoids  Nonflavanoid_Phenols  Proanthocyanins  Color_Intensity   Hue  \\\n",
      "0        3.06                  0.28             2.29             5.64  1.04   \n",
      "1        2.76                  0.26             1.28             4.38  1.05   \n",
      "2        3.24                  0.30             2.81             5.68  1.03   \n",
      "3        3.49                  0.24             2.18             7.80  0.86   \n",
      "4        2.69                  0.39             1.82             4.32  1.04   \n",
      "\n",
      "   OD280  Proline  Customer_Segment  \n",
      "0   3.92     1065                 1  \n",
      "1   3.40     1050                 1  \n",
      "2   3.17     1185                 1  \n",
      "3   3.45     1480                 1  \n",
      "4   2.93      735                 1  \n"
     ]
    }
   ],
   "source": [
    "print(df.head())"
   ]
  },
  {
   "cell_type": "code",
   "execution_count": 7,
   "metadata": {},
   "outputs": [
    {
     "name": "stdout",
     "output_type": "stream",
     "text": [
      "Alcohol                 float64\n",
      "Malic_Acid              float64\n",
      "Ash                     float64\n",
      "Ash_Alcanity            float64\n",
      "Magnesium                 int64\n",
      "Total_Phenols           float64\n",
      "Flavanoids              float64\n",
      "Nonflavanoid_Phenols    float64\n",
      "Proanthocyanins         float64\n",
      "Color_Intensity         float64\n",
      "Hue                     float64\n",
      "OD280                   float64\n",
      "Proline                   int64\n",
      "Customer_Segment          int64\n",
      "dtype: object\n"
     ]
    }
   ],
   "source": [
    "print(df.dtypes)"
   ]
  },
  {
   "cell_type": "code",
   "execution_count": 8,
   "metadata": {},
   "outputs": [
    {
     "name": "stdout",
     "output_type": "stream",
     "text": [
      "178\n",
      "Alcohol                 float64\n",
      "Malic_Acid              float64\n",
      "Ash                     float64\n",
      "Ash_Alcanity            float64\n",
      "Magnesium                 int64\n",
      "Total_Phenols           float64\n",
      "Flavanoids              float64\n",
      "Nonflavanoid_Phenols    float64\n",
      "Proanthocyanins         float64\n",
      "Color_Intensity         float64\n",
      "Hue                     float64\n",
      "OD280                   float64\n",
      "Proline                   int64\n",
      "Customer_Segment          int64\n",
      "dtype: object\n"
     ]
    }
   ],
   "source": [
    "columns = df.columns.tolist()\n",
    "cols = columns\n",
    "# cols = columns[1:]\n",
    "# cols = ['Survived', 'Pclass', 'Age', 'SibSp', 'Fare']\n",
    "# cols = columns[:-1]\n",
    "# cols = ['Passenger Count', 'Adjusted Passenger Count']\n",
    "# cols = columns[1:]\n",
    "# cols = columns[2:]\n",
    "df = df[cols]\n",
    "for col in cols:\n",
    "    df[col] = pd.to_numeric(df[col], errors='coerce')\n",
    "df = df.fillna(0)\n",
    "df = df.replace([-np.inf, np.inf], np.nan)\n",
    "df = df.dropna()\n",
    "df = df.loc[:, (df != 0).any(axis=0)]\n",
    "print(len(df))\n",
    "print(df.dtypes)"
   ]
  },
  {
   "cell_type": "code",
   "execution_count": 9,
   "metadata": {},
   "outputs": [],
   "source": [
    "df = df.sample(\n",
    "    frac=1.0,\n",
    "    random_state=1,\n",
    ")\n",
    "df = df.reset_index(drop=True)"
   ]
  },
  {
   "cell_type": "code",
   "execution_count": 10,
   "metadata": {},
   "outputs": [],
   "source": [
    "if need_normalization is True:\n",
    "    normalizer = StandardScaler()\n",
    "    tmp = normalizer.fit_transform(df)\n",
    "    df = pd.DataFrame(tmp, columns=df.columns)\n",
    "elif need_standardization is True:\n",
    "    scaler = MinMaxScaler()\n",
    "    tmp = scaler.fit_transform(df)\n",
    "    df = pd.DataFrame(tmp, columns=df.columns)"
   ]
  },
  {
   "cell_type": "code",
   "execution_count": 11,
   "metadata": {},
   "outputs": [],
   "source": [
    "X = df\n",
    "if need_pca is True:\n",
    "    pca = PCA(\n",
    "        n_components=num_comps,\n",
    "        svd_solver='auto',\n",
    "    )\n",
    "    X = pca.fit_transform(X)\n",
    "else:\n",
    "    X = X.to_numpy()"
   ]
  },
  {
   "cell_type": "code",
   "execution_count": 12,
   "metadata": {},
   "outputs": [],
   "source": [
    "for x in X:\n",
    "    for a in x:\n",
    "        if np.isinf(a):\n",
    "            print(x)"
   ]
  },
  {
   "cell_type": "code",
   "execution_count": 13,
   "metadata": {},
   "outputs": [
    {
     "name": "stdout",
     "output_type": "stream",
     "text": [
      "[[ 2.58448815 -1.17132839]\n",
      " [ 0.13745847  1.92845353]\n",
      " [-2.3944115  -1.06452946]\n",
      " [-1.74032573  1.39100815]\n",
      " [-2.53754828 -1.87852793]]\n",
      "(178, 2)\n"
     ]
    }
   ],
   "source": [
    "data = X\n",
    "print(data[:5])\n",
    "print(data.shape)"
   ]
  },
  {
   "cell_type": "code",
   "execution_count": 14,
   "metadata": {},
   "outputs": [],
   "source": [
    "models = ['ostrovsky', 'kmeans', 'kmeans++', 'variance']"
   ]
  },
  {
   "cell_type": "code",
   "execution_count": 15,
   "metadata": {},
   "outputs": [],
   "source": [
    "def plot_scatter(X, labels):\n",
    "    fig, ax = plt.subplots()\n",
    "    scatter = plt.scatter(\n",
    "        X[:, 0],\n",
    "        X[:, 1],\n",
    "        c=labels,\n",
    "    )\n",
    "    handles, labels = scatter.legend_elements()\n",
    "    legend = ax.legend(\n",
    "        handles,\n",
    "        labels,\n",
    "        loc='upper right',\n",
    "        title='Label',\n",
    "    )\n",
    "    ax.add_artist(legend)\n",
    "    plt.title(model+' '+str(num_clusters)+ ' clusters')\n",
    "    plt.xlabel('Component A')\n",
    "    plt.ylabel('Component B')\n",
    "    plt.show()"
   ]
  },
  {
   "cell_type": "code",
   "execution_count": 16,
   "metadata": {},
   "outputs": [],
   "source": [
    "algorithms = {}\n",
    "iterations = {}\n",
    "inertias = {}\n",
    "times = {}\n",
    "inertias_min = {}\n",
    "for model in models:\n",
    "    iterations[model] = 0.0\n",
    "    inertias[model] = 0.0\n",
    "    times[model] = 0.0\n",
    "    inertias_min[model] = 1e20\n",
    "for i in range(num_iter_exp):\n",
    "    for model in models:\n",
    "        algorithms[model] = KMeansClustering(\n",
    "            n_clusters=num_clusters,\n",
    "            max_iter=num_iterations,\n",
    "            init=model,\n",
    "            verbose=verbose,\n",
    "        )\n",
    "        start = timeit.default_timer()\n",
    "        algorithm = algorithms[model].fit(data)\n",
    "        centers = algorithm.cluster_centers_\n",
    "        labels = algorithms[model].predict(data)\n",
    "#         plot_scatter(X, labels)\n",
    "        inertias[model] += algorithm.sse_\n",
    "        inertias_min[model] = min(inertias_min[model], algorithm.sse_)\n",
    "        end = timeit.default_timer()\n",
    "        times[model] += (end-start)"
   ]
  },
  {
   "cell_type": "code",
   "execution_count": 17,
   "metadata": {},
   "outputs": [
    {
     "name": "stdout",
     "output_type": "stream",
     "text": [
      "ostrovsky, 5\n",
      "Average Inertia - 150.59855263211452\n",
      "Minimum Inertia -  145.4648931505064\n",
      "Time - 1.4534875189999985\n",
      "\n",
      "kmeans, 5\n",
      "Average Inertia - 151.77628080921232\n",
      "Minimum Inertia -  145.4648931505064\n",
      "Time - 1.445791673000001\n",
      "\n",
      "kmeans++, 5\n",
      "Average Inertia - 148.90907392065532\n",
      "Minimum Inertia -  145.4648931505064\n",
      "Time - 1.4551421590000013\n",
      "\n",
      "variance, 5\n",
      "Average Inertia - 148.86819005795846\n",
      "Minimum Inertia -  145.4648931505064\n",
      "Time - 1.4661181270000034\n",
      "\n"
     ]
    }
   ],
   "source": [
    "for model in models:\n",
    "    print(model+', '+str(num_clusters))\n",
    "    print('Average Inertia -', inertias[model]/num_iter_exp)\n",
    "    print('Minimum Inertia - ', inertias_min[model])\n",
    "    print('Time -', times[model]/num_iter_exp)\n",
    "    print('')"
   ]
  }
 ],
 "metadata": {
  "kernelspec": {
   "display_name": "Python 3",
   "language": "python",
   "name": "python3"
  },
  "language_info": {
   "codemirror_mode": {
    "name": "ipython",
    "version": 3
   },
   "file_extension": ".py",
   "mimetype": "text/x-python",
   "name": "python",
   "nbconvert_exporter": "python",
   "pygments_lexer": "ipython3",
   "version": "3.7.4"
  }
 },
 "nbformat": 4,
 "nbformat_minor": 2
}
