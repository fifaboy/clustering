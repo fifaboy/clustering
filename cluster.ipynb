{
 "cells": [
  {
   "cell_type": "code",
   "execution_count": 1,
   "metadata": {},
   "outputs": [],
   "source": [
    "import os, sys\n",
    "\n",
    "import numpy as np\n",
    "import pandas as pd\n",
    "\n",
    "from os.path import join\n",
    "\n",
    "from library import SBKMeans, ErrorChecker\n",
    "from sklearn.decomposition import PCA\n",
    "from sklearn.preprocessing import MinMaxScaler, StandardScaler\n",
    "from sklearn.cluster import KMeans\n",
    "from sklearn.mixture import GaussianMixture\n",
    "\n",
    "import matplotlib.pyplot as plt\n",
    "\n",
    "%matplotlib inline"
   ]
  },
  {
   "cell_type": "code",
   "execution_count": 2,
   "metadata": {},
   "outputs": [],
   "source": [
    "pwd = os.getcwd()\n",
    "data_dir = join(pwd, 'data/')\n",
    "need_normalization = False\n",
    "need_standardization = True\n",
    "need_pca = True\n",
    "filename = 'AirQualityUCI.csv'\n",
    "datapath = join(data_dir, filename)\n",
    "num_comps = 2\n",
    "num_clusters = 5\n",
    "num_iterations = 20"
   ]
  },
  {
   "cell_type": "code",
   "execution_count": 3,
   "metadata": {},
   "outputs": [],
   "source": [
    "# f = open('data/data.csv')\n",
    "# lines = f.read()\n",
    "# print(type(lines))\n",
    "# new_lines = ''\n",
    "# for line in lines:\n",
    "#     new_lines += str(line.encode('utf-8').strip())\n",
    "# print(len(new_lines))"
   ]
  },
  {
   "cell_type": "code",
   "execution_count": 4,
   "metadata": {},
   "outputs": [],
   "source": [
    "df = pd.read_csv(datapath, low_memory=False, encoding='utf-8')"
   ]
  },
  {
   "cell_type": "code",
   "execution_count": 5,
   "metadata": {},
   "outputs": [
    {
     "name": "stdout",
     "output_type": "stream",
     "text": [
      "9357\n"
     ]
    }
   ],
   "source": [
    "print(len(df))"
   ]
  },
  {
   "cell_type": "code",
   "execution_count": 6,
   "metadata": {},
   "outputs": [
    {
     "name": "stdout",
     "output_type": "stream",
     "text": [
      "        Date      Time  CO(GT)  PT08.S1(CO)  NMHC(GT)  C6H6(GT)  \\\n",
      "0  10/3/2004  18.00.00     2.6         1360     150.0      11.9   \n",
      "1  10/3/2004  19.00.00     2.0         1292     112.0       9.4   \n",
      "2  10/3/2004  20.00.00     2.2         1402      88.0       9.0   \n",
      "3  10/3/2004  21.00.00     2.2         1376      80.0       9.2   \n",
      "4  10/3/2004  22.00.00     1.6         1272      51.0       6.5   \n",
      "\n",
      "   PT08.S2(NMHC)  NOx(GT)  PT08.S3(NOx)  NO2(GT)  PT08.S4(NO2)  PT08.S5(O3)  \\\n",
      "0           1046      166          1056      113          1692       1268.0   \n",
      "1            955      103          1174       92          1559        972.0   \n",
      "2            939      131          1140      114          1555       1074.0   \n",
      "3            948      172          1092      122          1584       1203.0   \n",
      "4            836      131          1205      116          1490       1110.0   \n",
      "\n",
      "      T    RH      AH  \n",
      "0  13.6  48.9  0.7578  \n",
      "1  13.3  47.7  0.7255  \n",
      "2  11.9  54.0  0.7502  \n",
      "3  11.0  60.0  0.7867  \n",
      "4  11.2  59.6  0.7888  \n"
     ]
    }
   ],
   "source": [
    "print(df.head())"
   ]
  },
  {
   "cell_type": "code",
   "execution_count": 7,
   "metadata": {},
   "outputs": [
    {
     "name": "stdout",
     "output_type": "stream",
     "text": [
      "Date              object\n",
      "Time              object\n",
      "CO(GT)           float64\n",
      "PT08.S1(CO)        int64\n",
      "NMHC(GT)         float64\n",
      "C6H6(GT)         float64\n",
      "PT08.S2(NMHC)      int64\n",
      "NOx(GT)            int64\n",
      "PT08.S3(NOx)       int64\n",
      "NO2(GT)            int64\n",
      "PT08.S4(NO2)       int64\n",
      "PT08.S5(O3)      float64\n",
      "T                float64\n",
      "RH               float64\n",
      "AH               float64\n",
      "dtype: object\n"
     ]
    }
   ],
   "source": [
    "print(df.dtypes)"
   ]
  },
  {
   "cell_type": "code",
   "execution_count": 8,
   "metadata": {},
   "outputs": [
    {
     "name": "stdout",
     "output_type": "stream",
     "text": [
      "9357\n",
      "CO(GT)           float64\n",
      "PT08.S1(CO)        int64\n",
      "NMHC(GT)         float64\n",
      "C6H6(GT)         float64\n",
      "PT08.S2(NMHC)      int64\n",
      "NOx(GT)            int64\n",
      "PT08.S3(NOx)       int64\n",
      "NO2(GT)            int64\n",
      "PT08.S4(NO2)       int64\n",
      "PT08.S5(O3)      float64\n",
      "T                float64\n",
      "RH               float64\n",
      "AH               float64\n",
      "dtype: object\n"
     ]
    }
   ],
   "source": [
    "columns = df.columns.tolist()\n",
    "cols = columns\n",
    "# cols = columns[1:]\n",
    "# cols = ['Survived', 'Pclass', 'Age', 'SibSp', 'Fare']\n",
    "# cols = columns[:-1]\n",
    "# cols = ['Passenger Count', 'Adjusted Passenger Count']\n",
    "# cols = columns[1:]\n",
    "cols = columns[2:]\n",
    "df = df[cols]\n",
    "for col in cols:\n",
    "    df[col] = pd.to_numeric(df[col], errors='coerce')\n",
    "df = df.fillna(0)\n",
    "df = df.replace([-np.inf, np.inf], np.nan)\n",
    "df = df.dropna()\n",
    "df = df.loc[:, (df != 0).any(axis=0)]\n",
    "print(len(df))\n",
    "print(df.dtypes)"
   ]
  },
  {
   "cell_type": "code",
   "execution_count": 9,
   "metadata": {},
   "outputs": [],
   "source": [
    "df = df.sample(\n",
    "    frac=1.0,\n",
    "    random_state=1,\n",
    ")\n",
    "df = df.reset_index(drop=True)"
   ]
  },
  {
   "cell_type": "code",
   "execution_count": 10,
   "metadata": {},
   "outputs": [],
   "source": [
    "if need_normalization is True:\n",
    "    normalizer = StandardScaler()\n",
    "    tmp = normalizer.fit_transform(df)\n",
    "    df = pd.DataFrame(tmp, columns=df.columns)\n",
    "elif need_standardization is True:\n",
    "    scaler = MinMaxScaler()\n",
    "    tmp = scaler.fit_transform(df)\n",
    "    df = pd.DataFrame(tmp, columns=df.columns)"
   ]
  },
  {
   "cell_type": "code",
   "execution_count": 11,
   "metadata": {},
   "outputs": [],
   "source": [
    "X = df\n",
    "if need_pca is True:\n",
    "    pca = PCA(\n",
    "        n_components=num_comps,\n",
    "        svd_solver='auto',\n",
    "    )\n",
    "    X = pca.fit_transform(X)\n",
    "else:\n",
    "    X = X.to_numpy()"
   ]
  },
  {
   "cell_type": "code",
   "execution_count": 12,
   "metadata": {},
   "outputs": [],
   "source": [
    "for x in X:\n",
    "    for a in x:\n",
    "        if np.isinf(a):\n",
    "            print(x)"
   ]
  },
  {
   "cell_type": "code",
   "execution_count": 13,
   "metadata": {},
   "outputs": [
    {
     "name": "stdout",
     "output_type": "stream",
     "text": [
      "[[-0.04526882 -0.09777067]\n",
      " [ 0.14884422 -0.23581221]\n",
      " [-0.07847869 -0.09954947]\n",
      " [-0.14991385  0.07819651]\n",
      " [ 0.08742846 -0.23711976]]\n",
      "(9357, 2)\n"
     ]
    }
   ],
   "source": [
    "data = X\n",
    "print(data[:5])\n",
    "print(data.shape)"
   ]
  },
  {
   "cell_type": "code",
   "execution_count": 14,
   "metadata": {},
   "outputs": [],
   "source": [
    "models = ['sbkmeans', 'kmeans']"
   ]
  },
  {
   "cell_type": "code",
   "execution_count": 15,
   "metadata": {},
   "outputs": [],
   "source": [
    "sbkmeans = SBKMeans(\n",
    "    n_clusters=num_clusters,\n",
    "    n_iters=num_iterations,\n",
    ")"
   ]
  },
  {
   "cell_type": "code",
   "execution_count": 16,
   "metadata": {},
   "outputs": [],
   "source": [
    "kmeans = KMeans(\n",
    "    n_clusters=num_clusters,\n",
    "    max_iter=num_iterations,\n",
    "    init='k-means++',\n",
    "    algorithm='auto',\n",
    "#     n_init=50,\n",
    ")"
   ]
  },
  {
   "cell_type": "code",
   "execution_count": 17,
   "metadata": {},
   "outputs": [],
   "source": [
    "algorithms = {\n",
    "    'kmeans': kmeans,\n",
    "    'sbkmeans': sbkmeans,\n",
    "}"
   ]
  },
  {
   "cell_type": "code",
   "execution_count": 18,
   "metadata": {},
   "outputs": [
    {
     "name": "stdout",
     "output_type": "stream",
     "text": [
      "[[ 0.08761871 -0.21858459]\n",
      " [-0.13067891  0.00535222]\n",
      " [-0.2106655   0.24074743]\n",
      " [ 1.42573556  0.27507831]\n",
      " [-0.02911552 -0.14844767]]\n",
      "[4, 0, 4, 1, 0]\n",
      "31083.945616380908\n"
     ]
    },
    {
     "data": {
      "image/png": "[encoded data removed]",
      "text/plain": [
       "<Figure size 432x288 with 1 Axes>"
      ]
     },
     "metadata": {
      "needs_background": "light"
     },
     "output_type": "display_data"
    },
    {
     "name": "stdout",
     "output_type": "stream",
     "text": [
      "[[-0.33049761  0.39638553]\n",
      " [ 0.06877729 -0.24253923]\n",
      " [ 1.80692815  0.3476374 ]\n",
      " [-0.17329995  0.13160345]\n",
      " [-0.04158523 -0.05504659]]\n",
      "[4 1 4 3 1]\n",
      "44760.91438526715\n"
     ]
    },
    {
     "data": {
      "image/png": "[encoded data removed]",
      "text/plain": [
       "<Figure size 432x288 with 1 Axes>"
      ]
     },
     "metadata": {
      "needs_background": "light"
     },
     "output_type": "display_data"
    }
   ],
   "source": [
    "for model in models:\n",
    "    algorithm = algorithms[model].fit(data)\n",
    "    centers = algorithm.cluster_centers_\n",
    "    print(centers)\n",
    "    labels = algorithms[model].predict(data)\n",
    "    print(labels[:5])\n",
    "    error_checker = ErrorChecker(\n",
    "        X=data,\n",
    "        cluster_centers_=centers,\n",
    "        labels_=labels,\n",
    "    )\n",
    "    dist_total = error_checker.potential_function()\n",
    "    print(dist_total)\n",
    "    fig, ax = plt.subplots()\n",
    "    scatter = plt.scatter(\n",
    "        X[:, 0],\n",
    "        X[:, 1],\n",
    "        c=labels,\n",
    "    )\n",
    "    handles, labels = scatter.legend_elements()\n",
    "    legend = ax.legend(\n",
    "        handles,\n",
    "        labels,\n",
    "        loc='upper right',\n",
    "        title='Label',\n",
    "    )\n",
    "    ax.add_artist(legend)\n",
    "    plt.title(model+' '+str(num_clusters)+ ' clusters')\n",
    "    plt.xlabel('Component A')\n",
    "    plt.ylabel('Component B')\n",
    "    plt.show()"
   ]
  }
 ],
 "metadata": {
  "kernelspec": {
   "display_name": "Python 3",
   "language": "python",
   "name": "python3"
  },
  "language_info": {
   "codemirror_mode": {
    "name": "ipython",
    "version": 3
   },
   "file_extension": ".py",
   "mimetype": "text/x-python",
   "name": "python",
   "nbconvert_exporter": "python",
   "pygments_lexer": "ipython3",
   "version": "3.7.4"
  }
 },
 "nbformat": 4,
 "nbformat_minor": 2
}
