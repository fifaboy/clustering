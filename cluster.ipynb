{
 "cells": [
  {
   "cell_type": "code",
   "execution_count": 1,
   "metadata": {},
   "outputs": [],
   "source": [
    "import os, sys\n",
    "\n",
    "import numpy as np\n",
    "import pandas as pd\n",
    "\n",
    "from os.path import join\n",
    "\n",
    "from library import SBKMeans, ErrorChecker\n",
    "from sklearn.decomposition import PCA\n",
    "from sklearn.preprocessing import MinMaxScaler, StandardScaler\n",
    "from sklearn.cluster import KMeans"
   ]
  },
  {
   "cell_type": "code",
   "execution_count": 2,
   "metadata": {},
   "outputs": [],
   "source": [
    "pwd = os.getcwd()\n",
    "data_dir = join(pwd, 'data/')\n",
    "need_normalization = False\n",
    "need_standardization = True\n",
    "need_pca = True\n",
    "filename = 'turkiye-student-evaluation_R_Specific.csv'\n",
    "datapath = join(data_dir, filename)\n",
    "num_comps = 2\n",
    "num_clusters = 3\n",
    "num_iterations = 50"
   ]
  },
  {
   "cell_type": "code",
   "execution_count": 3,
   "metadata": {},
   "outputs": [],
   "source": [
    "df = pd.read_csv(datapath, low_memory=False)"
   ]
  },
  {
   "cell_type": "code",
   "execution_count": 4,
   "metadata": {},
   "outputs": [
    {
     "name": "stdout",
     "output_type": "stream",
     "text": [
      "5820\n"
     ]
    }
   ],
   "source": [
    "print(len(df))"
   ]
  },
  {
   "cell_type": "code",
   "execution_count": 5,
   "metadata": {},
   "outputs": [
    {
     "name": "stdout",
     "output_type": "stream",
     "text": [
      "   instr  class  nb.repeat  attendance  difficulty  Q1  Q2  Q3  Q4  Q5  ...  \\\n",
      "1      1      2          1           0           4   3   3   3   3   3  ...   \n",
      "2      1      2          1           1           3   3   3   3   3   3  ...   \n",
      "3      1      2          1           2           4   5   5   5   5   5  ...   \n",
      "4      1      2          1           1           3   3   3   3   3   3  ...   \n",
      "5      1      2          1           0           1   1   1   1   1   1  ...   \n",
      "\n",
      "   Q19  Q20  Q21  Q22  Q23  Q24  Q25  Q26  Q27  Q28  \n",
      "1    3    3    3    3    3    3    3    3    3    3  \n",
      "2    3    3    3    3    3    3    3    3    3    3  \n",
      "3    5    5    5    5    5    5    5    5    5    5  \n",
      "4    3    3    3    3    3    3    3    3    3    3  \n",
      "5    1    1    1    1    1    1    1    1    1    1  \n",
      "\n",
      "[5 rows x 33 columns]\n"
     ]
    }
   ],
   "source": [
    "print(df.head())"
   ]
  },
  {
   "cell_type": "code",
   "execution_count": 6,
   "metadata": {},
   "outputs": [
    {
     "name": "stdout",
     "output_type": "stream",
     "text": [
      "instr         int64\n",
      "class         int64\n",
      "nb.repeat     int64\n",
      "attendance    int64\n",
      "difficulty    int64\n",
      "Q1            int64\n",
      "Q2            int64\n",
      "Q3            int64\n",
      "Q4            int64\n",
      "Q5            int64\n",
      "Q6            int64\n",
      "Q7            int64\n",
      "Q8            int64\n",
      "Q9            int64\n",
      "Q10           int64\n",
      "Q11           int64\n",
      "Q12           int64\n",
      "Q13           int64\n",
      "Q14           int64\n",
      "Q15           int64\n",
      "Q16           int64\n",
      "Q17           int64\n",
      "Q18           int64\n",
      "Q19           int64\n",
      "Q20           int64\n",
      "Q21           int64\n",
      "Q22           int64\n",
      "Q23           int64\n",
      "Q24           int64\n",
      "Q25           int64\n",
      "Q26           int64\n",
      "Q27           int64\n",
      "Q28           int64\n",
      "dtype: object\n"
     ]
    }
   ],
   "source": [
    "print(df.dtypes)"
   ]
  },
  {
   "cell_type": "code",
   "execution_count": 7,
   "metadata": {},
   "outputs": [
    {
     "name": "stdout",
     "output_type": "stream",
     "text": [
      "5820\n",
      "class         int64\n",
      "nb.repeat     int64\n",
      "attendance    int64\n",
      "difficulty    int64\n",
      "Q1            int64\n",
      "Q2            int64\n",
      "Q3            int64\n",
      "Q4            int64\n",
      "Q5            int64\n",
      "Q6            int64\n",
      "Q7            int64\n",
      "Q8            int64\n",
      "Q9            int64\n",
      "Q10           int64\n",
      "Q11           int64\n",
      "Q12           int64\n",
      "Q13           int64\n",
      "Q14           int64\n",
      "Q15           int64\n",
      "Q16           int64\n",
      "Q17           int64\n",
      "Q18           int64\n",
      "Q19           int64\n",
      "Q20           int64\n",
      "Q21           int64\n",
      "Q22           int64\n",
      "Q23           int64\n",
      "Q24           int64\n",
      "Q25           int64\n",
      "Q26           int64\n",
      "Q27           int64\n",
      "Q28           int64\n",
      "dtype: object\n"
     ]
    }
   ],
   "source": [
    "columns = df.columns.tolist()\n",
    "cols = columns[1:]\n",
    "# cols = ['Survived', 'Pclass', 'Age', 'SibSp', 'Fare']\n",
    "# cols = columns[:-1]\n",
    "cols = ['Passenger Count', 'Adjusted Passenger Count']\n",
    "cols = columns[1:]\n",
    "df = df[cols]\n",
    "for col in cols:\n",
    "    df[col] = pd.to_numeric(df[col], errors='coerce')\n",
    "df = df.fillna(0)\n",
    "df = df.replace([-np.inf, np.inf], np.nan)\n",
    "df = df.dropna()\n",
    "df = df.loc[:, (df != 0).any(axis=0)]\n",
    "print(len(df))\n",
    "print(df.dtypes)"
   ]
  },
  {
   "cell_type": "code",
   "execution_count": 8,
   "metadata": {},
   "outputs": [],
   "source": [
    "df = df.sample(\n",
    "    frac=1.0,\n",
    "    random_state=1,\n",
    ")\n",
    "df = df.reset_index(drop=True)"
   ]
  },
  {
   "cell_type": "code",
   "execution_count": 9,
   "metadata": {},
   "outputs": [],
   "source": [
    "if need_normalization is True:\n",
    "    normalizer = StandardScaler()\n",
    "    tmp = normalizer.fit_transform(df)\n",
    "    df = pd.DataFrame(tmp, columns=df.columns)\n",
    "elif need_standardization is True:\n",
    "    scaler = MinMaxScaler()\n",
    "    tmp = scaler.fit_transform(df)\n",
    "    df = pd.DataFrame(tmp, columns=df.columns)"
   ]
  },
  {
   "cell_type": "code",
   "execution_count": 10,
   "metadata": {},
   "outputs": [],
   "source": [
    "X = df\n",
    "if need_pca is True:\n",
    "    pca = PCA(\n",
    "        n_components=num_comps,\n",
    "        svd_solver='auto',\n",
    "    )\n",
    "    X = pca.fit_transform(X)\n",
    "else:\n",
    "    X = X.to_numpy()"
   ]
  },
  {
   "cell_type": "code",
   "execution_count": 11,
   "metadata": {},
   "outputs": [],
   "source": [
    "for x in X:\n",
    "    for a in x:\n",
    "        if np.isinf(a):\n",
    "            print(x)"
   ]
  },
  {
   "cell_type": "code",
   "execution_count": 12,
   "metadata": {},
   "outputs": [
    {
     "name": "stdout",
     "output_type": "stream",
     "text": [
      "[[-1.10503648  0.36752731]\n",
      " [-2.36774079 -0.73266403]\n",
      " [-1.09405395  0.32037828]\n",
      " [ 0.27859712 -0.45985762]\n",
      " [ 2.91372029 -0.46401632]]\n",
      "(5820, 2)\n"
     ]
    }
   ],
   "source": [
    "data = X\n",
    "print(data[:5])\n",
    "print(data.shape)"
   ]
  },
  {
   "cell_type": "code",
   "execution_count": 13,
   "metadata": {},
   "outputs": [],
   "source": [
    "sbkmeans = SBKMeans(\n",
    "    n_clusters=num_clusters,\n",
    "    n_iters=num_iterations,\n",
    ")"
   ]
  },
  {
   "cell_type": "code",
   "execution_count": 14,
   "metadata": {},
   "outputs": [
    {
     "name": "stdout",
     "output_type": "stream",
     "text": [
      "Initial centers:\n",
      "[[ 2.87186485 -0.48637943]\n",
      " [-1.04645225 -0.66964007]\n",
      " [ 0.85834787  0.23984265]]\n"
     ]
    }
   ],
   "source": [
    "centers = sbkmeans.fit(data)"
   ]
  },
  {
   "cell_type": "code",
   "execution_count": 15,
   "metadata": {},
   "outputs": [
    {
     "name": "stdout",
     "output_type": "stream",
     "text": [
      "[[ 1.14791021 -0.4308732 ]\n",
      " [-1.10482511  0.08094426]\n",
      " [ 1.42712825  0.24767369]]\n"
     ]
    }
   ],
   "source": [
    "print(sbkmeans.centers)"
   ]
  },
  {
   "cell_type": "code",
   "execution_count": 16,
   "metadata": {},
   "outputs": [],
   "source": [
    "labels = sbkmeans.predict(data)"
   ]
  },
  {
   "cell_type": "code",
   "execution_count": 17,
   "metadata": {},
   "outputs": [
    {
     "name": "stdout",
     "output_type": "stream",
     "text": [
      "[1, 1, 1, 0, 2]\n"
     ]
    }
   ],
   "source": [
    "print(labels[:5])"
   ]
  },
  {
   "cell_type": "code",
   "execution_count": 18,
   "metadata": {},
   "outputs": [],
   "source": [
    "error_checker = ErrorChecker(\n",
    "    X=data,\n",
    "    centers=centers,\n",
    "    labels=labels,\n",
    ")"
   ]
  },
  {
   "cell_type": "code",
   "execution_count": 19,
   "metadata": {},
   "outputs": [],
   "source": [
    "dist_total = error_checker.potential_function()"
   ]
  },
  {
   "cell_type": "code",
   "execution_count": 20,
   "metadata": {},
   "outputs": [
    {
     "name": "stdout",
     "output_type": "stream",
     "text": [
      "72361.56180138634\n"
     ]
    }
   ],
   "source": [
    "print(dist_total)"
   ]
  },
  {
   "cell_type": "code",
   "execution_count": 21,
   "metadata": {},
   "outputs": [],
   "source": [
    "kmeans = KMeans(\n",
    "    n_clusters=num_clusters,\n",
    "    max_iter=num_iterations,\n",
    "    init='k-means++',\n",
    "    algorithm='auto',\n",
    "#     n_init=50,\n",
    ")"
   ]
  },
  {
   "cell_type": "code",
   "execution_count": 22,
   "metadata": {},
   "outputs": [],
   "source": [
    "labels = kmeans.fit_predict(data)"
   ]
  },
  {
   "cell_type": "code",
   "execution_count": 23,
   "metadata": {},
   "outputs": [],
   "source": [
    "error_checker = ErrorChecker(\n",
    "    data,\n",
    "    kmeans.cluster_centers_,\n",
    "    kmeans.labels_,\n",
    ")"
   ]
  },
  {
   "cell_type": "code",
   "execution_count": 24,
   "metadata": {},
   "outputs": [],
   "source": [
    "dist_total = error_checker.potential_function()"
   ]
  },
  {
   "cell_type": "code",
   "execution_count": 25,
   "metadata": {},
   "outputs": [
    {
     "name": "stdout",
     "output_type": "stream",
     "text": [
      "89530.08753283779\n"
     ]
    }
   ],
   "source": [
    "print(dist_total)"
   ]
  }
 ],
 "metadata": {
  "kernelspec": {
   "display_name": "Python 3",
   "language": "python",
   "name": "python3"
  },
  "language_info": {
   "codemirror_mode": {
    "name": "ipython",
    "version": 3
   },
   "file_extension": ".py",
   "mimetype": "text/x-python",
   "name": "python",
   "nbconvert_exporter": "python",
   "pygments_lexer": "ipython3",
   "version": "3.7.4"
  }
 },
 "nbformat": 4,
 "nbformat_minor": 2
}
