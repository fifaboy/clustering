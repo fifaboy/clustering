{
 "cells": [
  {
   "cell_type": "code",
   "execution_count": 1,
   "metadata": {},
   "outputs": [],
   "source": [
    "import os, sys, timeit\n",
    "\n",
    "import numpy as np\n",
    "import pandas as pd\n",
    "\n",
    "\n",
    "from metrics import process\n",
    "\n",
    "from os.path import join\n",
    "from kmeans_clustering import KMeansClustering\n",
    "from sklearn.decomposition import PCA\n",
    "from sklearn.preprocessing import MinMaxScaler, StandardScaler\n",
    "from sklearn.mixture import GaussianMixture\n",
    "\n",
    "import matplotlib.pyplot as plt\n",
    "\n",
    "%matplotlib inline"
   ]
  },
  {
   "cell_type": "code",
   "execution_count": 2,
   "metadata": {},
   "outputs": [],
   "source": [
    "pwd = os.getcwd()\n",
    "data_dir = join(pwd, 'data/')\n",
    "need_normalization = True\n",
    "need_standardization = False\n",
    "need_pca = True\n",
    "filename = 'wine.csv'\n",
    "datapath = join(data_dir, filename)\n",
    "num_clusters = 5\n",
    "num_iterations = 500\n",
    "num_iter_exp = 20\n",
    "verbose = False"
   ]
  },
  {
   "cell_type": "code",
   "execution_count": 3,
   "metadata": {},
   "outputs": [],
   "source": [
    "# f = open('data/data.csv')\n",
    "# lines = f.read()\n",
    "# print(type(lines))\n",
    "# new_lines = ''\n",
    "# for line in lines:\n",
    "#     new_lines += str(line.encode('utf-8').strip())\n",
    "# print(len(new_lines))"
   ]
  },
  {
   "cell_type": "code",
   "execution_count": 4,
   "metadata": {},
   "outputs": [],
   "source": [
    "df = pd.read_csv(\n",
    "    datapath, \n",
    "    low_memory=False,\n",
    "    encoding='utf-8',\n",
    "#     sep=',',\n",
    "    header=None,\n",
    ")"
   ]
  },
  {
   "cell_type": "code",
   "execution_count": 5,
   "metadata": {},
   "outputs": [
    {
     "name": "stdout",
     "output_type": "stream",
     "text": [
      "179\n"
     ]
    }
   ],
   "source": [
    "print(len(df))"
   ]
  },
  {
   "cell_type": "code",
   "execution_count": 6,
   "metadata": {},
   "outputs": [
    {
     "name": "stdout",
     "output_type": "stream",
     "text": [
      "        0           1     2             3          4              5   \\\n",
      "0  Alcohol  Malic_Acid   Ash  Ash_Alcanity  Magnesium  Total_Phenols   \n",
      "1    14.23        1.71  2.43          15.6        127            2.8   \n",
      "2     13.2        1.78  2.14          11.2        100           2.65   \n",
      "3    13.16        2.36  2.67          18.6        101            2.8   \n",
      "4    14.37        1.95   2.5          16.8        113           3.85   \n",
      "\n",
      "           6                     7                8                9     10  \\\n",
      "0  Flavanoids  Nonflavanoid_Phenols  Proanthocyanins  Color_Intensity   Hue   \n",
      "1        3.06                  0.28             2.29             5.64  1.04   \n",
      "2        2.76                  0.26             1.28             4.38  1.05   \n",
      "3        3.24                   0.3             2.81             5.68  1.03   \n",
      "4        3.49                  0.24             2.18              7.8  0.86   \n",
      "\n",
      "      11       12                13  \n",
      "0  OD280  Proline  Customer_Segment  \n",
      "1   3.92     1065                 1  \n",
      "2    3.4     1050                 1  \n",
      "3   3.17     1185                 1  \n",
      "4   3.45     1480                 1  \n"
     ]
    }
   ],
   "source": [
    "print(df.head())"
   ]
  },
  {
   "cell_type": "code",
   "execution_count": 7,
   "metadata": {},
   "outputs": [
    {
     "name": "stdout",
     "output_type": "stream",
     "text": [
      "0     object\n",
      "1     object\n",
      "2     object\n",
      "3     object\n",
      "4     object\n",
      "5     object\n",
      "6     object\n",
      "7     object\n",
      "8     object\n",
      "9     object\n",
      "10    object\n",
      "11    object\n",
      "12    object\n",
      "13    object\n",
      "dtype: object\n"
     ]
    }
   ],
   "source": [
    "print(df.dtypes)"
   ]
  },
  {
   "cell_type": "code",
   "execution_count": 8,
   "metadata": {},
   "outputs": [
    {
     "name": "stdout",
     "output_type": "stream",
     "text": [
      "179\n",
      "0     float64\n",
      "1     float64\n",
      "2     float64\n",
      "3     float64\n",
      "4     float64\n",
      "5     float64\n",
      "6     float64\n",
      "7     float64\n",
      "8     float64\n",
      "9     float64\n",
      "10    float64\n",
      "11    float64\n",
      "12    float64\n",
      "dtype: object\n"
     ]
    }
   ],
   "source": [
    "columns = df.columns.tolist()\n",
    "cols = columns\n",
    "# cols = columns[1:]\n",
    "# cols = ['Survived', 'Pclass', 'Age', 'SibSp', 'Fare']\n",
    "cols = columns[:-1]\n",
    "# cols = ['Passenger Count', 'Adjusted Passenger Count']\n",
    "# cols = columns[1:]\n",
    "# cols = columns[2:]\n",
    "df = df[cols]\n",
    "for col in cols:\n",
    "    df[col] = pd.to_numeric(df[col], errors='coerce')\n",
    "df = df.fillna(0)\n",
    "df = df.replace([-np.inf, np.inf], np.nan)\n",
    "df = df.dropna()\n",
    "df = df.loc[:, (df != 0).any(axis=0)]\n",
    "print(len(df))\n",
    "print(df.dtypes)"
   ]
  },
  {
   "cell_type": "code",
   "execution_count": 9,
   "metadata": {},
   "outputs": [],
   "source": [
    "df = df.sample(\n",
    "    frac=1.0,\n",
    "    random_state=1,\n",
    ")\n",
    "df = df.reset_index(drop=True)"
   ]
  },
  {
   "cell_type": "code",
   "execution_count": 10,
   "metadata": {},
   "outputs": [],
   "source": [
    "if need_normalization is True:\n",
    "    normalizer = StandardScaler()\n",
    "    tmp = normalizer.fit_transform(df)\n",
    "    df = pd.DataFrame(tmp, columns=df.columns)\n",
    "elif need_standardization is True:\n",
    "    scaler = MinMaxScaler()\n",
    "    tmp = scaler.fit_transform(df)\n",
    "    df = pd.DataFrame(tmp, columns=df.columns)"
   ]
  },
  {
   "cell_type": "code",
   "execution_count": 11,
   "metadata": {},
   "outputs": [],
   "source": [
    "X = df\n",
    "if need_pca is True:\n",
    "    pca = PCA(\n",
    "        n_components=len(cols),\n",
    "        svd_solver='auto',\n",
    "    )\n",
    "    X = pca.fit_transform(X)\n",
    "else:\n",
    "    X = X.to_numpy()"
   ]
  },
  {
   "cell_type": "code",
   "execution_count": 12,
   "metadata": {},
   "outputs": [],
   "source": [
    "for x in X:\n",
    "    for a in x:\n",
    "        if np.isinf(a):\n",
    "            print(x)"
   ]
  },
  {
   "cell_type": "code",
   "execution_count": 13,
   "metadata": {},
   "outputs": [
    {
     "name": "stdout",
     "output_type": "stream",
     "text": [
      "[[ 0.40671762  1.28211576 -1.51782211 -0.67432984 -0.17004657  1.20947388\n",
      "  -0.41236638  0.41553725  0.2502837   0.4384852  -0.18823535  0.3433128\n",
      "  -0.25896505]\n",
      " [-0.72759544  1.37610527 -0.37730173  0.87500206  0.71965933  1.15579811\n",
      "  -0.32877247  0.28964952 -0.22064164 -0.90683662 -1.27940828  0.43765637\n",
      "  -0.39186619]\n",
      " [ 0.3645804  -0.15030117 -0.658086   -0.2156418   3.42989239 -0.06329432\n",
      "  -0.09513995  0.63338098 -0.6111177  -0.07512562 -0.67457472  0.26752932\n",
      "  -0.52252397]\n",
      " [ 1.18255668 -2.3430737   0.89951508  0.62576514 -1.2709059   2.84281533\n",
      "   0.01578601 -0.54248965  0.2550968  -0.1050272  -0.25485171  0.02416374\n",
      "  -0.79322458]\n",
      " [-1.48936128 -0.44033211 -0.0737009  -0.80675951  0.52333018 -0.34563438\n",
      "  -0.48448707  0.39526327 -0.46510774 -0.15383133 -0.20493521  0.20260866\n",
      "   0.10843757]]\n",
      "(179, 13)\n"
     ]
    }
   ],
   "source": [
    "data = X\n",
    "print(data[:5])\n",
    "print(data.shape)"
   ]
  },
  {
   "cell_type": "code",
   "execution_count": 14,
   "metadata": {},
   "outputs": [],
   "source": [
    "models = ['kmeans', 'kmeans++', 'kmeans++_improved', 'ostrovsky', 'variance']"
   ]
  },
  {
   "cell_type": "code",
   "execution_count": 15,
   "metadata": {},
   "outputs": [],
   "source": [
    "def plot_scatter(X, labels):\n",
    "    fig, ax = plt.subplots()\n",
    "    scatter = plt.scatter(\n",
    "        X[:, 0],\n",
    "        X[:, 1],\n",
    "        c=labels,\n",
    "    )\n",
    "    handles, labels = scatter.legend_elements()\n",
    "    legend = ax.legend(\n",
    "        handles,\n",
    "        labels,\n",
    "        loc='upper right',\n",
    "        title='Label',\n",
    "    )\n",
    "    ax.add_artist(legend)\n",
    "    plt.title(model+' '+str(num_clusters)+ ' clusters')\n",
    "    plt.xlabel('Component A')\n",
    "    plt.ylabel('Component B')\n",
    "    plt.show()"
   ]
  },
  {
   "cell_type": "code",
   "execution_count": 16,
   "metadata": {},
   "outputs": [],
   "source": [
    "algorithms = {}\n",
    "iterations = {}\n",
    "inertias = {}\n",
    "times = {}\n",
    "inertias_min = {}\n",
    "iters_min = {}\n",
    "for model in models:\n",
    "    iterations[model] = 0.0\n",
    "    inertias[model] = 0.0\n",
    "    times[model] = 0.0\n",
    "    iters_min[model] = 0\n",
    "    inertias_min[model] = 1e20\n",
    "for i in range(num_iter_exp):\n",
    "    for model in models:\n",
    "        algorithms[model] = KMeansClustering(\n",
    "            n_clusters=num_clusters,\n",
    "            max_iter=num_iterations,\n",
    "            init=model,\n",
    "            verbose=verbose,\n",
    "        )\n",
    "        start = timeit.default_timer()\n",
    "        algorithm = algorithms[model].fit(data)\n",
    "        centers = algorithm.cluster_centers_\n",
    "        labels = algorithms[model].predict(data)\n",
    "#         plot_scatter(X, labels)\n",
    "        inertias[model] += algorithm.best_inertia_\n",
    "        inertias_min[model] = min(inertias_min[model], algorithm.best_inertia_)\n",
    "        iters_min[model] += algorithm.n_iters_\n",
    "        end = timeit.default_timer()\n",
    "        times[model] += (end-start)"
   ]
  },
  {
   "cell_type": "code",
   "execution_count": 17,
   "metadata": {},
   "outputs": [
    {
     "name": "stdout",
     "output_type": "stream",
     "text": [
      "kmeans, 5\n",
      "Average Inertia - 1181.19\n",
      "Minimum Inertia -  1012.28\n",
      "Time - 1.49\n",
      "\n",
      "kmeans++, 5\n",
      "Average Inertia - 1120.07\n",
      "Minimum Inertia -  1015.19\n",
      "Time - 1.49\n",
      "\n",
      "kmeans++_improved, 5\n",
      "Average Inertia - 1103.17\n",
      "Minimum Inertia -  1014.54\n",
      "Time - 1.49\n",
      "\n",
      "ostrovsky, 5\n",
      "Average Inertia - 1103.8\n",
      "Minimum Inertia -  1012.93\n",
      "Time - 1.49\n",
      "\n",
      "variance, 5\n",
      "Average Inertia - 1164.23\n",
      "Minimum Inertia -  1019.49\n",
      "Time - 1.5\n",
      "\n"
     ]
    }
   ],
   "source": [
    "for model in models:\n",
    "    print(model+', '+str(num_clusters))\n",
    "    print('Average Inertia -', round(inertias[model]/num_iter_exp, 2))\n",
    "    print('Minimum Inertia - ', round(inertias_min[model], 2))\n",
    "    print('Time -', round(times[model]/num_iter_exp, 2))\n",
    "#     print('Average number of iterations', round(iters_min[model]/num_iter_exp,2))\n",
    "    print('')"
   ]
  }
 ],
 "metadata": {
  "kernelspec": {
   "display_name": "Python 3",
   "language": "python",
   "name": "python3"
  },
  "language_info": {
   "codemirror_mode": {
    "name": "ipython",
    "version": 3
   },
   "file_extension": ".py",
   "mimetype": "text/x-python",
   "name": "python",
   "nbconvert_exporter": "python",
   "pygments_lexer": "ipython3",
   "version": "3.7.4"
  }
 },
 "nbformat": 4,
 "nbformat_minor": 2
}
