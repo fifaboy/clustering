{
 "cells": [
  {
   "cell_type": "code",
   "execution_count": 1,
   "metadata": {},
   "outputs": [],
   "source": [
    "import os, sys\n",
    "\n",
    "import numpy as np\n",
    "import pandas as pd\n",
    "\n",
    "from os.path import join\n",
    "\n",
    "from library import SBKMeans, ErrorChecker\n",
    "from sklearn.decomposition import PCA\n",
    "from sklearn.preprocessing import MinMaxScaler, StandardScaler\n",
    "from sklearn.cluster import KMeans"
   ]
  },
  {
   "cell_type": "code",
   "execution_count": 2,
   "metadata": {},
   "outputs": [],
   "source": [
    "pwd = os.getcwd()\n",
    "data_dir = join(pwd, 'data/')\n",
    "need_normalization = True\n",
    "need_standardization = False\n",
    "need_pca = True\n",
    "filename = 'total_data_na.csv'\n",
    "datapath = join(data_dir, filename)\n",
    "num_comps = 2\n",
    "num_clusters = 5\n",
    "num_iterations = 300"
   ]
  },
  {
   "cell_type": "code",
   "execution_count": 3,
   "metadata": {},
   "outputs": [],
   "source": [
    "df = pd.read_csv(datapath, low_memory=False)"
   ]
  },
  {
   "cell_type": "code",
   "execution_count": 4,
   "metadata": {},
   "outputs": [
    {
     "name": "stdout",
     "output_type": "stream",
     "text": [
      "143\n"
     ]
    }
   ],
   "source": [
    "print(len(df))"
   ]
  },
  {
   "cell_type": "code",
   "execution_count": 5,
   "metadata": {},
   "outputs": [
    {
     "name": "stdout",
     "output_type": "stream",
     "text": [
      "            PLAYER  Mat.x  Inns.x  NO  Runs.x  HS  Avg.x   BF    SR.x  X100  \\\n",
      "0      Aaron Finch     10       9   1     134  46  16.75  100  134.00     0   \n",
      "1   AB de Villiers     12      11   2     480  90  53.33  275  174.54     0   \n",
      "2  Abhishek Sharma      3       3   2      63  46     63   33  190.90     0   \n",
      "3   Ajinkya Rahane     15      14   1     370  65  28.46  313  118.21     0   \n",
      "4       Alex Hales      6       6   0     148  45  24.66  118  125.42     0   \n",
      "\n",
      "   ...   Ov  Runs.y  Wkts  BBI  Avg.y  Econ  SR.y  X4w  X5w  y  \n",
      "0  ...  0.0       0     0    0      0   0.0     0    0    0  0  \n",
      "1  ...  0.0       0     0    0      0   0.0     0    0    0  0  \n",
      "2  ...  0.0       0     0    0      0   0.0     0    0    0  0  \n",
      "3  ...  0.0       0     0    0      0   0.0     0    0    0  0  \n",
      "4  ...  0.0       0     0    0      0   0.0     0    0    0  0  \n",
      "\n",
      "[5 rows x 25 columns]\n"
     ]
    }
   ],
   "source": [
    "print(df.head())"
   ]
  },
  {
   "cell_type": "code",
   "execution_count": 6,
   "metadata": {},
   "outputs": [
    {
     "name": "stdout",
     "output_type": "stream",
     "text": [
      "PLAYER     object\n",
      "Mat.x       int64\n",
      "Inns.x      int64\n",
      "NO          int64\n",
      "Runs.x      int64\n",
      "HS          int64\n",
      "Avg.x      object\n",
      "BF          int64\n",
      "SR.x      float64\n",
      "X100        int64\n",
      "X50         int64\n",
      "X4s         int64\n",
      "X6s         int64\n",
      "Mat.y       int64\n",
      "Inns.y      int64\n",
      "Ov        float64\n",
      "Runs.y      int64\n",
      "Wkts        int64\n",
      "BBI         int64\n",
      "Avg.y      object\n",
      "Econ      float64\n",
      "SR.y       object\n",
      "X4w         int64\n",
      "X5w         int64\n",
      "y           int64\n",
      "dtype: object\n"
     ]
    }
   ],
   "source": [
    "print(df.dtypes)"
   ]
  },
  {
   "cell_type": "code",
   "execution_count": 7,
   "metadata": {},
   "outputs": [
    {
     "name": "stdout",
     "output_type": "stream",
     "text": [
      "143\n"
     ]
    }
   ],
   "source": [
    "df = df[df.columns.tolist()[1:]]\n",
    "for col in df.columns.tolist():\n",
    "    df[col] = pd.to_numeric(df[col], errors='coerce')\n",
    "df = df.fillna(0)\n",
    "df = df.replace([-np.inf, np.inf], np.nan)\n",
    "df = df.dropna()\n",
    "df = df.loc[:, (df != 0).any(axis=0)]\n",
    "print(len(df))"
   ]
  },
  {
   "cell_type": "code",
   "execution_count": 8,
   "metadata": {},
   "outputs": [],
   "source": [
    "df = df.sample(\n",
    "    frac=1.0,\n",
    "    random_state=1,\n",
    ")\n",
    "df = df.reset_index(drop=True)"
   ]
  },
  {
   "cell_type": "code",
   "execution_count": 9,
   "metadata": {},
   "outputs": [],
   "source": [
    "if need_normalization is True:\n",
    "    normalizer = StandardScaler()\n",
    "    tmp = normalizer.fit_transform(df)\n",
    "    df = pd.DataFrame(tmp, columns=df.columns)\n",
    "elif need_standardization is True:\n",
    "    scaler = MinMaxScaler()\n",
    "    tmp = scaler.fit_transform(df)\n",
    "    df = pd.DataFrame(tmp, columns=df.columns)"
   ]
  },
  {
   "cell_type": "code",
   "execution_count": 10,
   "metadata": {},
   "outputs": [],
   "source": [
    "X = df\n",
    "if need_pca is True:\n",
    "    pca = PCA(\n",
    "        n_components=num_comps,\n",
    "        svd_solver='auto',\n",
    "    )\n",
    "    X = pca.fit_transform(X)\n",
    "else:\n",
    "    X = X.to_numpy()"
   ]
  },
  {
   "cell_type": "code",
   "execution_count": 11,
   "metadata": {},
   "outputs": [],
   "source": [
    "for x in X:\n",
    "    for a in x:\n",
    "        if np.isinf(a):\n",
    "            print(x)"
   ]
  },
  {
   "cell_type": "code",
   "execution_count": 12,
   "metadata": {},
   "outputs": [
    {
     "name": "stdout",
     "output_type": "stream",
     "text": [
      "[[ 0.72042344 -2.36568164]\n",
      " [-2.73225787 -1.89400323]\n",
      " [ 0.07945916  1.40378715]\n",
      " [ 7.37203169  1.40441952]\n",
      " [-1.72141235 -3.17838008]]\n",
      "(143, 2)\n"
     ]
    }
   ],
   "source": [
    "data = X\n",
    "print(data[:5])\n",
    "print(data.shape)"
   ]
  },
  {
   "cell_type": "code",
   "execution_count": 13,
   "metadata": {},
   "outputs": [],
   "source": [
    "sbkmeans = SBKMeans(\n",
    "    n_clusters=num_clusters,\n",
    "    n_iters=num_iterations,\n",
    ")"
   ]
  },
  {
   "cell_type": "code",
   "execution_count": 14,
   "metadata": {},
   "outputs": [
    {
     "name": "stdout",
     "output_type": "stream",
     "text": [
      "Initial centers:\n",
      "[[-1.89000451e+00 -1.32695409e+00]\n",
      " [ 7.37203169e+00  1.40441952e+00]\n",
      " [-1.58452328e+00  2.16521354e+00]\n",
      " [ 1.78368273e+00 -1.71882952e+00]\n",
      " [ 5.80628650e+00  3.47656563e-03]]\n"
     ]
    }
   ],
   "source": [
    "centers = sbkmeans.fit(data)"
   ]
  },
  {
   "cell_type": "code",
   "execution_count": 15,
   "metadata": {},
   "outputs": [
    {
     "name": "stdout",
     "output_type": "stream",
     "text": [
      "[[-2.68738893 -0.05409887]\n",
      " [ 5.18611986  0.2593172 ]\n",
      " [-0.70763264  3.67203206]\n",
      " [-0.58322841 -2.45591975]\n",
      " [ 1.80561361 -1.78988086]]\n"
     ]
    }
   ],
   "source": [
    "print(sbkmeans.centers)"
   ]
  },
  {
   "cell_type": "code",
   "execution_count": 16,
   "metadata": {},
   "outputs": [],
   "source": [
    "labels = sbkmeans.predict(data)"
   ]
  },
  {
   "cell_type": "code",
   "execution_count": 17,
   "metadata": {},
   "outputs": [
    {
     "name": "stdout",
     "output_type": "stream",
     "text": [
      "[4, 0, 2, 1, 3]\n"
     ]
    }
   ],
   "source": [
    "print(labels[:5])"
   ]
  },
  {
   "cell_type": "code",
   "execution_count": 18,
   "metadata": {},
   "outputs": [],
   "source": [
    "error_checker = ErrorChecker(\n",
    "    X=data,\n",
    "    centers=centers,\n",
    "    labels=labels,\n",
    ")"
   ]
  },
  {
   "cell_type": "code",
   "execution_count": 19,
   "metadata": {},
   "outputs": [],
   "source": [
    "dist_total = error_checker.potential_function()"
   ]
  },
  {
   "cell_type": "code",
   "execution_count": 20,
   "metadata": {},
   "outputs": [
    {
     "name": "stdout",
     "output_type": "stream",
     "text": [
      "19327.897957343488\n"
     ]
    }
   ],
   "source": [
    "print(dist_total)"
   ]
  },
  {
   "cell_type": "code",
   "execution_count": 21,
   "metadata": {},
   "outputs": [],
   "source": [
    "kmeans = KMeans(\n",
    "    n_clusters=num_clusters,\n",
    "    max_iter=num_iterations,\n",
    "    init='k-means++',\n",
    "    algorithm='auto',\n",
    "#     n_init=50,\n",
    ")"
   ]
  },
  {
   "cell_type": "code",
   "execution_count": 22,
   "metadata": {},
   "outputs": [],
   "source": [
    "labels = kmeans.fit_predict(data)"
   ]
  },
  {
   "cell_type": "code",
   "execution_count": 23,
   "metadata": {},
   "outputs": [],
   "source": [
    "error_checker = ErrorChecker(\n",
    "    data,\n",
    "    kmeans.cluster_centers_,\n",
    "    kmeans.labels_,\n",
    ")"
   ]
  },
  {
   "cell_type": "code",
   "execution_count": 24,
   "metadata": {},
   "outputs": [],
   "source": [
    "dist_total = error_checker.potential_function()"
   ]
  },
  {
   "cell_type": "code",
   "execution_count": 25,
   "metadata": {},
   "outputs": [
    {
     "name": "stdout",
     "output_type": "stream",
     "text": [
      "21738.439210085406\n"
     ]
    }
   ],
   "source": [
    "print(dist_total)"
   ]
  }
 ],
 "metadata": {
  "kernelspec": {
   "display_name": "Python 3",
   "language": "python",
   "name": "python3"
  },
  "language_info": {
   "codemirror_mode": {
    "name": "ipython",
    "version": 3
   },
   "file_extension": ".py",
   "mimetype": "text/x-python",
   "name": "python",
   "nbconvert_exporter": "python",
   "pygments_lexer": "ipython3",
   "version": "3.7.4"
  }
 },
 "nbformat": 4,
 "nbformat_minor": 2
}
